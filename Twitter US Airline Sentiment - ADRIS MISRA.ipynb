{
 "cells": [
  {
   "cell_type": "markdown",
   "metadata": {},
   "source": [
    "# <center><font color = 'blue'>*ADRIS MISRA*</font></center>"
   ]
  },
  {
   "cell_type": "markdown",
   "metadata": {},
   "source": [
    "**Github repository:** https://github.com/GreatLearningAIML1/gl-pgp-aiml-uta-intl-aug20-adris-misra"
   ]
  },
  {
   "cell_type": "markdown",
   "metadata": {},
   "source": [
    "# `Project -  Twitter US Airline Sentiment`\n",
    "\n",
    "### `Objective:`\n",
    "Classification of sentiments from Tweet data about major US airlines\n",
    "\n",
    "### `Domain:` \n",
    "- Aviation\n",
    "\n",
    "### `Learning Outcomes:`\n",
    "- Basic understanding of text pre-processing.\n",
    "- What to do after text pre-processing:\n",
    "    - Bag of words\n",
    "    - Tf-idf\n",
    "- Build the classification model.\n",
    "- Evaluate the Model."
   ]
  },
  {
   "cell_type": "markdown",
   "metadata": {},
   "source": [
    "### `Data Description:`\n",
    "\n",
    "A sentiment analysis job about the problems of each major U.S. airline. Twitter data was scraped from February of 2015 and contributors were asked to first classify positive, negative, and neutral tweets, followed by categorizing negative reasons (such as \"late flight\" or \"rude service\").\n",
    "\n",
    "\n",
    "### Dataset:\n",
    "- The project is from a dataset from Kaggle.\n",
    "- Link to the Kaggle project site: https://www.kaggle.com/crowdflower/twitter-airline-sentiment\n",
    "- The dataset has to be downloaded from the above Kaggle website.\n",
    "- The dataset has the following columns:\n",
    "\t- tweet_id\n",
    "\t- airline_sentiment\n",
    "\t- airline_sentiment_confidence\n",
    "\t- negativereason\n",
    "\t- negativereason_confidence\n",
    "\t- airline\n",
    "\t- airline_sentiment_gold\n",
    "\t- name\n",
    "\t- negativereason_gold\n",
    "\t- retweet_count\n",
    "\t- text\n",
    "\t- tweet_coord\n",
    "\t- tweet_created\n",
    "\t- tweet_location\n",
    "\t- user_timezone"
   ]
  },
  {
   "cell_type": "markdown",
   "metadata": {},
   "source": [
    "### Steps and tasks:\n",
    "1. Import the libraries, load dataset, print shape of data, data description. (5 Marks)\n",
    "2. Understand of data-columns: (5 Marks)<br>\n",
    "    a. Drop all other columns except “text” and “airline_sentiment”.<br>\n",
    "    b. Check the shape of data.<br>\n",
    "    c. Print first 5 rows of data.\n",
    "3. Text pre-processing: Data preparation. (20 Marks)<br>\n",
    "    a. Html tag removal.<br>\n",
    "    b. Tokenization.<br>\n",
    "    c. Remove the numbers.<br>\n",
    "    d. Removal of Special Characters and Punctuations.<br>\n",
    "    e. Conversion to lowercase.<br>\n",
    "    f. Lemmatize or stemming.<br>\n",
    "    g. Join the words in the list to convert back to text string in the dataframe. (So that each row contains the data in text format.)<br>\n",
    "    h. Print first 5 rows of data after pre-processing.\n",
    "4. Vectorization: (10 Marks)<br>\n",
    "    a. Use CountVectorizer.<br>\n",
    "    b. Use TfidfVectorizer.\n",
    "5. Fit and evaluate model using both type of vectorization. (6+6 Marks)\n",
    "6. Summarize your understanding of the application of Various Pre-processing and Vectorization and performance of your model on this dataset. (8 Marks)"
   ]
  },
  {
   "cell_type": "markdown",
   "metadata": {},
   "source": [
    "### 1. Import the datasets and libraries, check datatype, statistical summary, shape, null values or incorrect imputation"
   ]
  },
  {
   "cell_type": "code",
   "execution_count": 40,
   "metadata": {},
   "outputs": [],
   "source": [
    "# Import warnings to suppress runtime warnings\n",
    "\n",
    "import warnings\n",
    "warnings.filterwarnings('ignore')"
   ]
  },
  {
   "cell_type": "code",
   "execution_count": 41,
   "metadata": {},
   "outputs": [],
   "source": [
    "# Import basic libraries for data and visualization\n",
    "\n",
    "import numpy as np\n",
    "import pandas as pd\n",
    "import seaborn as sns\n",
    "import matplotlib.pyplot as plt\n",
    "sns.set(color_codes=True)\n",
    "%matplotlib inline"
   ]
  },
  {
   "cell_type": "code",
   "execution_count": 42,
   "metadata": {},
   "outputs": [],
   "source": [
    "# Import Text and NLP Libraries\n",
    "\n",
    "import re\n",
    "import unicodedata\n",
    "from bs4 import BeautifulSoup\n",
    "import spacy\n",
    "from spacy.tokenizer import Tokenizer\n",
    "from spacy.lang.en import English\n",
    "from spacy.lang.en.stop_words import STOP_WORDS\n",
    "import contractions\n",
    "import emoji\n",
    "\n",
    "\n",
    "from sklearn.feature_extraction.text import CountVectorizer          #For Bag of words\n",
    "from sklearn.feature_extraction.text import TfidfVectorizer          #For TF-IDF"
   ]
  },
  {
   "cell_type": "code",
   "execution_count": 426,
   "metadata": {},
   "outputs": [],
   "source": [
    "# Import models and relevent class / functions\n",
    "\n",
    "from sklearn.model_selection import train_test_split\n",
    "from sklearn.preprocessing import StandardScaler\n",
    "\n",
    "from sklearn.metrics import confusion_matrix, recall_score, precision_score, f1_score, roc_auc_score,accuracy_score\n",
    "from sklearn.metrics import precision_recall_curve, auc, roc_curve\n",
    "from sklearn.metrics import classification_report, accuracy_score\n",
    "\n",
    "\n",
    "from sklearn.ensemble import RandomForestClassifier\n",
    "from sklearn.ensemble import GradientBoostingClassifier\n",
    "from sklearn.neighbors import KNeighborsClassifier\n",
    "from sklearn.naive_bayes import GaussianNB\n",
    "from sklearn.model_selection import cross_val_score\n",
    "from sklearn import metrics\n",
    "from sklearn.metrics import confusion_matrix, recall_score, precision_score, f1_score, roc_auc_score,accuracy_score\n",
    "from sklearn.preprocessing import LabelBinarizer\n",
    "\n",
    "from tensorflow.keras.models import Sequential\n",
    "from tensorflow.keras.layers import Dense, Dropout, BatchNormalization\n",
    "from tensorflow.keras.optimizers import Adam"
   ]
  },
  {
   "cell_type": "code",
   "execution_count": 44,
   "metadata": {},
   "outputs": [],
   "source": [
    "# Import data\n",
    "\n",
    "tweet = pd.read_csv(\"Tweets.csv\")"
   ]
  },
  {
   "cell_type": "code",
   "execution_count": 45,
   "metadata": {},
   "outputs": [
    {
     "data": {
      "text/html": [
       "<div>\n",
       "<style scoped>\n",
       "    .dataframe tbody tr th:only-of-type {\n",
       "        vertical-align: middle;\n",
       "    }\n",
       "\n",
       "    .dataframe tbody tr th {\n",
       "        vertical-align: top;\n",
       "    }\n",
       "\n",
       "    .dataframe thead th {\n",
       "        text-align: right;\n",
       "    }\n",
       "</style>\n",
       "<table border=\"1\" class=\"dataframe\">\n",
       "  <thead>\n",
       "    <tr style=\"text-align: right;\">\n",
       "      <th></th>\n",
       "      <th>tweet_id</th>\n",
       "      <th>airline_sentiment</th>\n",
       "      <th>airline_sentiment_confidence</th>\n",
       "      <th>negativereason</th>\n",
       "      <th>negativereason_confidence</th>\n",
       "      <th>airline</th>\n",
       "      <th>airline_sentiment_gold</th>\n",
       "      <th>name</th>\n",
       "      <th>negativereason_gold</th>\n",
       "      <th>retweet_count</th>\n",
       "      <th>text</th>\n",
       "      <th>tweet_coord</th>\n",
       "      <th>tweet_created</th>\n",
       "      <th>tweet_location</th>\n",
       "      <th>user_timezone</th>\n",
       "    </tr>\n",
       "  </thead>\n",
       "  <tbody>\n",
       "    <tr>\n",
       "      <th>0</th>\n",
       "      <td>570306133677760513</td>\n",
       "      <td>neutral</td>\n",
       "      <td>1.0000</td>\n",
       "      <td>NaN</td>\n",
       "      <td>NaN</td>\n",
       "      <td>Virgin America</td>\n",
       "      <td>NaN</td>\n",
       "      <td>cairdin</td>\n",
       "      <td>NaN</td>\n",
       "      <td>0</td>\n",
       "      <td>@VirginAmerica What @dhepburn said.</td>\n",
       "      <td>NaN</td>\n",
       "      <td>2015-02-24 11:35:52 -0800</td>\n",
       "      <td>NaN</td>\n",
       "      <td>Eastern Time (US &amp; Canada)</td>\n",
       "    </tr>\n",
       "    <tr>\n",
       "      <th>1</th>\n",
       "      <td>570301130888122368</td>\n",
       "      <td>positive</td>\n",
       "      <td>0.3486</td>\n",
       "      <td>NaN</td>\n",
       "      <td>0.0000</td>\n",
       "      <td>Virgin America</td>\n",
       "      <td>NaN</td>\n",
       "      <td>jnardino</td>\n",
       "      <td>NaN</td>\n",
       "      <td>0</td>\n",
       "      <td>@VirginAmerica plus you've added commercials t...</td>\n",
       "      <td>NaN</td>\n",
       "      <td>2015-02-24 11:15:59 -0800</td>\n",
       "      <td>NaN</td>\n",
       "      <td>Pacific Time (US &amp; Canada)</td>\n",
       "    </tr>\n",
       "    <tr>\n",
       "      <th>2</th>\n",
       "      <td>570301083672813571</td>\n",
       "      <td>neutral</td>\n",
       "      <td>0.6837</td>\n",
       "      <td>NaN</td>\n",
       "      <td>NaN</td>\n",
       "      <td>Virgin America</td>\n",
       "      <td>NaN</td>\n",
       "      <td>yvonnalynn</td>\n",
       "      <td>NaN</td>\n",
       "      <td>0</td>\n",
       "      <td>@VirginAmerica I didn't today... Must mean I n...</td>\n",
       "      <td>NaN</td>\n",
       "      <td>2015-02-24 11:15:48 -0800</td>\n",
       "      <td>Lets Play</td>\n",
       "      <td>Central Time (US &amp; Canada)</td>\n",
       "    </tr>\n",
       "    <tr>\n",
       "      <th>3</th>\n",
       "      <td>570301031407624196</td>\n",
       "      <td>negative</td>\n",
       "      <td>1.0000</td>\n",
       "      <td>Bad Flight</td>\n",
       "      <td>0.7033</td>\n",
       "      <td>Virgin America</td>\n",
       "      <td>NaN</td>\n",
       "      <td>jnardino</td>\n",
       "      <td>NaN</td>\n",
       "      <td>0</td>\n",
       "      <td>@VirginAmerica it's really aggressive to blast...</td>\n",
       "      <td>NaN</td>\n",
       "      <td>2015-02-24 11:15:36 -0800</td>\n",
       "      <td>NaN</td>\n",
       "      <td>Pacific Time (US &amp; Canada)</td>\n",
       "    </tr>\n",
       "    <tr>\n",
       "      <th>4</th>\n",
       "      <td>570300817074462722</td>\n",
       "      <td>negative</td>\n",
       "      <td>1.0000</td>\n",
       "      <td>Can't Tell</td>\n",
       "      <td>1.0000</td>\n",
       "      <td>Virgin America</td>\n",
       "      <td>NaN</td>\n",
       "      <td>jnardino</td>\n",
       "      <td>NaN</td>\n",
       "      <td>0</td>\n",
       "      <td>@VirginAmerica and it's a really big bad thing...</td>\n",
       "      <td>NaN</td>\n",
       "      <td>2015-02-24 11:14:45 -0800</td>\n",
       "      <td>NaN</td>\n",
       "      <td>Pacific Time (US &amp; Canada)</td>\n",
       "    </tr>\n",
       "  </tbody>\n",
       "</table>\n",
       "</div>"
      ],
      "text/plain": [
       "             tweet_id airline_sentiment  airline_sentiment_confidence  \\\n",
       "0  570306133677760513           neutral                        1.0000   \n",
       "1  570301130888122368          positive                        0.3486   \n",
       "2  570301083672813571           neutral                        0.6837   \n",
       "3  570301031407624196          negative                        1.0000   \n",
       "4  570300817074462722          negative                        1.0000   \n",
       "\n",
       "  negativereason  negativereason_confidence         airline  \\\n",
       "0            NaN                        NaN  Virgin America   \n",
       "1            NaN                     0.0000  Virgin America   \n",
       "2            NaN                        NaN  Virgin America   \n",
       "3     Bad Flight                     0.7033  Virgin America   \n",
       "4     Can't Tell                     1.0000  Virgin America   \n",
       "\n",
       "  airline_sentiment_gold        name negativereason_gold  retweet_count  \\\n",
       "0                    NaN     cairdin                 NaN              0   \n",
       "1                    NaN    jnardino                 NaN              0   \n",
       "2                    NaN  yvonnalynn                 NaN              0   \n",
       "3                    NaN    jnardino                 NaN              0   \n",
       "4                    NaN    jnardino                 NaN              0   \n",
       "\n",
       "                                                text tweet_coord  \\\n",
       "0                @VirginAmerica What @dhepburn said.         NaN   \n",
       "1  @VirginAmerica plus you've added commercials t...         NaN   \n",
       "2  @VirginAmerica I didn't today... Must mean I n...         NaN   \n",
       "3  @VirginAmerica it's really aggressive to blast...         NaN   \n",
       "4  @VirginAmerica and it's a really big bad thing...         NaN   \n",
       "\n",
       "               tweet_created tweet_location               user_timezone  \n",
       "0  2015-02-24 11:35:52 -0800            NaN  Eastern Time (US & Canada)  \n",
       "1  2015-02-24 11:15:59 -0800            NaN  Pacific Time (US & Canada)  \n",
       "2  2015-02-24 11:15:48 -0800      Lets Play  Central Time (US & Canada)  \n",
       "3  2015-02-24 11:15:36 -0800            NaN  Pacific Time (US & Canada)  \n",
       "4  2015-02-24 11:14:45 -0800            NaN  Pacific Time (US & Canada)  "
      ]
     },
     "execution_count": 45,
     "metadata": {},
     "output_type": "execute_result"
    }
   ],
   "source": [
    "# checking sample head data\n",
    "\n",
    "tweet.head()"
   ]
  },
  {
   "cell_type": "code",
   "execution_count": 46,
   "metadata": {},
   "outputs": [
    {
     "data": {
      "text/html": [
       "<div>\n",
       "<style scoped>\n",
       "    .dataframe tbody tr th:only-of-type {\n",
       "        vertical-align: middle;\n",
       "    }\n",
       "\n",
       "    .dataframe tbody tr th {\n",
       "        vertical-align: top;\n",
       "    }\n",
       "\n",
       "    .dataframe thead th {\n",
       "        text-align: right;\n",
       "    }\n",
       "</style>\n",
       "<table border=\"1\" class=\"dataframe\">\n",
       "  <thead>\n",
       "    <tr style=\"text-align: right;\">\n",
       "      <th></th>\n",
       "      <th>tweet_id</th>\n",
       "      <th>airline_sentiment</th>\n",
       "      <th>airline_sentiment_confidence</th>\n",
       "      <th>negativereason</th>\n",
       "      <th>negativereason_confidence</th>\n",
       "      <th>airline</th>\n",
       "      <th>airline_sentiment_gold</th>\n",
       "      <th>name</th>\n",
       "      <th>negativereason_gold</th>\n",
       "      <th>retweet_count</th>\n",
       "      <th>text</th>\n",
       "      <th>tweet_coord</th>\n",
       "      <th>tweet_created</th>\n",
       "      <th>tweet_location</th>\n",
       "      <th>user_timezone</th>\n",
       "    </tr>\n",
       "  </thead>\n",
       "  <tbody>\n",
       "    <tr>\n",
       "      <th>14635</th>\n",
       "      <td>569587686496825344</td>\n",
       "      <td>positive</td>\n",
       "      <td>0.3487</td>\n",
       "      <td>NaN</td>\n",
       "      <td>0.0000</td>\n",
       "      <td>American</td>\n",
       "      <td>NaN</td>\n",
       "      <td>KristenReenders</td>\n",
       "      <td>NaN</td>\n",
       "      <td>0</td>\n",
       "      <td>@AmericanAir thank you we got on a different f...</td>\n",
       "      <td>NaN</td>\n",
       "      <td>2015-02-22 12:01:01 -0800</td>\n",
       "      <td>NaN</td>\n",
       "      <td>NaN</td>\n",
       "    </tr>\n",
       "    <tr>\n",
       "      <th>14636</th>\n",
       "      <td>569587371693355008</td>\n",
       "      <td>negative</td>\n",
       "      <td>1.0000</td>\n",
       "      <td>Customer Service Issue</td>\n",
       "      <td>1.0000</td>\n",
       "      <td>American</td>\n",
       "      <td>NaN</td>\n",
       "      <td>itsropes</td>\n",
       "      <td>NaN</td>\n",
       "      <td>0</td>\n",
       "      <td>@AmericanAir leaving over 20 minutes Late Flig...</td>\n",
       "      <td>NaN</td>\n",
       "      <td>2015-02-22 11:59:46 -0800</td>\n",
       "      <td>Texas</td>\n",
       "      <td>NaN</td>\n",
       "    </tr>\n",
       "    <tr>\n",
       "      <th>14637</th>\n",
       "      <td>569587242672398336</td>\n",
       "      <td>neutral</td>\n",
       "      <td>1.0000</td>\n",
       "      <td>NaN</td>\n",
       "      <td>NaN</td>\n",
       "      <td>American</td>\n",
       "      <td>NaN</td>\n",
       "      <td>sanyabun</td>\n",
       "      <td>NaN</td>\n",
       "      <td>0</td>\n",
       "      <td>@AmericanAir Please bring American Airlines to...</td>\n",
       "      <td>NaN</td>\n",
       "      <td>2015-02-22 11:59:15 -0800</td>\n",
       "      <td>Nigeria,lagos</td>\n",
       "      <td>NaN</td>\n",
       "    </tr>\n",
       "    <tr>\n",
       "      <th>14638</th>\n",
       "      <td>569587188687634433</td>\n",
       "      <td>negative</td>\n",
       "      <td>1.0000</td>\n",
       "      <td>Customer Service Issue</td>\n",
       "      <td>0.6659</td>\n",
       "      <td>American</td>\n",
       "      <td>NaN</td>\n",
       "      <td>SraJackson</td>\n",
       "      <td>NaN</td>\n",
       "      <td>0</td>\n",
       "      <td>@AmericanAir you have my money, you change my ...</td>\n",
       "      <td>NaN</td>\n",
       "      <td>2015-02-22 11:59:02 -0800</td>\n",
       "      <td>New Jersey</td>\n",
       "      <td>Eastern Time (US &amp; Canada)</td>\n",
       "    </tr>\n",
       "    <tr>\n",
       "      <th>14639</th>\n",
       "      <td>569587140490866689</td>\n",
       "      <td>neutral</td>\n",
       "      <td>0.6771</td>\n",
       "      <td>NaN</td>\n",
       "      <td>0.0000</td>\n",
       "      <td>American</td>\n",
       "      <td>NaN</td>\n",
       "      <td>daviddtwu</td>\n",
       "      <td>NaN</td>\n",
       "      <td>0</td>\n",
       "      <td>@AmericanAir we have 8 ppl so we need 2 know h...</td>\n",
       "      <td>NaN</td>\n",
       "      <td>2015-02-22 11:58:51 -0800</td>\n",
       "      <td>dallas, TX</td>\n",
       "      <td>NaN</td>\n",
       "    </tr>\n",
       "  </tbody>\n",
       "</table>\n",
       "</div>"
      ],
      "text/plain": [
       "                 tweet_id airline_sentiment  airline_sentiment_confidence  \\\n",
       "14635  569587686496825344          positive                        0.3487   \n",
       "14636  569587371693355008          negative                        1.0000   \n",
       "14637  569587242672398336           neutral                        1.0000   \n",
       "14638  569587188687634433          negative                        1.0000   \n",
       "14639  569587140490866689           neutral                        0.6771   \n",
       "\n",
       "               negativereason  negativereason_confidence   airline  \\\n",
       "14635                     NaN                     0.0000  American   \n",
       "14636  Customer Service Issue                     1.0000  American   \n",
       "14637                     NaN                        NaN  American   \n",
       "14638  Customer Service Issue                     0.6659  American   \n",
       "14639                     NaN                     0.0000  American   \n",
       "\n",
       "      airline_sentiment_gold             name negativereason_gold  \\\n",
       "14635                    NaN  KristenReenders                 NaN   \n",
       "14636                    NaN         itsropes                 NaN   \n",
       "14637                    NaN         sanyabun                 NaN   \n",
       "14638                    NaN       SraJackson                 NaN   \n",
       "14639                    NaN        daviddtwu                 NaN   \n",
       "\n",
       "       retweet_count                                               text  \\\n",
       "14635              0  @AmericanAir thank you we got on a different f...   \n",
       "14636              0  @AmericanAir leaving over 20 minutes Late Flig...   \n",
       "14637              0  @AmericanAir Please bring American Airlines to...   \n",
       "14638              0  @AmericanAir you have my money, you change my ...   \n",
       "14639              0  @AmericanAir we have 8 ppl so we need 2 know h...   \n",
       "\n",
       "      tweet_coord              tweet_created tweet_location  \\\n",
       "14635         NaN  2015-02-22 12:01:01 -0800            NaN   \n",
       "14636         NaN  2015-02-22 11:59:46 -0800          Texas   \n",
       "14637         NaN  2015-02-22 11:59:15 -0800  Nigeria,lagos   \n",
       "14638         NaN  2015-02-22 11:59:02 -0800     New Jersey   \n",
       "14639         NaN  2015-02-22 11:58:51 -0800     dallas, TX   \n",
       "\n",
       "                    user_timezone  \n",
       "14635                         NaN  \n",
       "14636                         NaN  \n",
       "14637                         NaN  \n",
       "14638  Eastern Time (US & Canada)  \n",
       "14639                         NaN  "
      ]
     },
     "execution_count": 46,
     "metadata": {},
     "output_type": "execute_result"
    }
   ],
   "source": [
    "# checking sample tail data\n",
    "\n",
    "tweet.tail()"
   ]
  },
  {
   "cell_type": "code",
   "execution_count": 47,
   "metadata": {},
   "outputs": [
    {
     "data": {
      "text/plain": [
       "(14640, 15)"
      ]
     },
     "execution_count": 47,
     "metadata": {},
     "output_type": "execute_result"
    }
   ],
   "source": [
    "# shape of dataframe\n",
    "\n",
    "tweet.shape"
   ]
  },
  {
   "cell_type": "code",
   "execution_count": 48,
   "metadata": {},
   "outputs": [
    {
     "name": "stdout",
     "output_type": "stream",
     "text": [
      "<class 'pandas.core.frame.DataFrame'>\n",
      "RangeIndex: 14640 entries, 0 to 14639\n",
      "Data columns (total 15 columns):\n",
      " #   Column                        Non-Null Count  Dtype  \n",
      "---  ------                        --------------  -----  \n",
      " 0   tweet_id                      14640 non-null  int64  \n",
      " 1   airline_sentiment             14640 non-null  object \n",
      " 2   airline_sentiment_confidence  14640 non-null  float64\n",
      " 3   negativereason                9178 non-null   object \n",
      " 4   negativereason_confidence     10522 non-null  float64\n",
      " 5   airline                       14640 non-null  object \n",
      " 6   airline_sentiment_gold        40 non-null     object \n",
      " 7   name                          14640 non-null  object \n",
      " 8   negativereason_gold           32 non-null     object \n",
      " 9   retweet_count                 14640 non-null  int64  \n",
      " 10  text                          14640 non-null  object \n",
      " 11  tweet_coord                   1019 non-null   object \n",
      " 12  tweet_created                 14640 non-null  object \n",
      " 13  tweet_location                9907 non-null   object \n",
      " 14  user_timezone                 9820 non-null   object \n",
      "dtypes: float64(2), int64(2), object(11)\n",
      "memory usage: 1.7+ MB\n"
     ]
    }
   ],
   "source": [
    "# check info\n",
    "\n",
    "tweet.info()"
   ]
  },
  {
   "cell_type": "code",
   "execution_count": 49,
   "metadata": {},
   "outputs": [
    {
     "data": {
      "text/plain": [
       "tweet_id                            0\n",
       "airline_sentiment                   0\n",
       "airline_sentiment_confidence        0\n",
       "negativereason                   5462\n",
       "negativereason_confidence        4118\n",
       "airline                             0\n",
       "airline_sentiment_gold          14600\n",
       "name                                0\n",
       "negativereason_gold             14608\n",
       "retweet_count                       0\n",
       "text                                0\n",
       "tweet_coord                     13621\n",
       "tweet_created                       0\n",
       "tweet_location                   4733\n",
       "user_timezone                    4820\n",
       "dtype: int64"
      ]
     },
     "execution_count": 49,
     "metadata": {},
     "output_type": "execute_result"
    }
   ],
   "source": [
    "# Check for Missing Values\n",
    "\n",
    "tweet.isnull().sum()"
   ]
  },
  {
   "cell_type": "code",
   "execution_count": 50,
   "metadata": {},
   "outputs": [
    {
     "data": {
      "text/html": [
       "<div>\n",
       "<style scoped>\n",
       "    .dataframe tbody tr th:only-of-type {\n",
       "        vertical-align: middle;\n",
       "    }\n",
       "\n",
       "    .dataframe tbody tr th {\n",
       "        vertical-align: top;\n",
       "    }\n",
       "\n",
       "    .dataframe thead th {\n",
       "        text-align: right;\n",
       "    }\n",
       "</style>\n",
       "<table border=\"1\" class=\"dataframe\">\n",
       "  <thead>\n",
       "    <tr style=\"text-align: right;\">\n",
       "      <th></th>\n",
       "      <th>count</th>\n",
       "      <th>unique</th>\n",
       "      <th>top</th>\n",
       "      <th>freq</th>\n",
       "      <th>mean</th>\n",
       "      <th>std</th>\n",
       "      <th>min</th>\n",
       "      <th>25%</th>\n",
       "      <th>50%</th>\n",
       "      <th>75%</th>\n",
       "      <th>max</th>\n",
       "    </tr>\n",
       "  </thead>\n",
       "  <tbody>\n",
       "    <tr>\n",
       "      <th>tweet_id</th>\n",
       "      <td>14640</td>\n",
       "      <td>NaN</td>\n",
       "      <td>NaN</td>\n",
       "      <td>NaN</td>\n",
       "      <td>5.69218e+17</td>\n",
       "      <td>7.79111e+14</td>\n",
       "      <td>5.67588e+17</td>\n",
       "      <td>5.68559e+17</td>\n",
       "      <td>5.69478e+17</td>\n",
       "      <td>5.6989e+17</td>\n",
       "      <td>5.70311e+17</td>\n",
       "    </tr>\n",
       "    <tr>\n",
       "      <th>airline_sentiment</th>\n",
       "      <td>14640</td>\n",
       "      <td>3</td>\n",
       "      <td>negative</td>\n",
       "      <td>9178</td>\n",
       "      <td>NaN</td>\n",
       "      <td>NaN</td>\n",
       "      <td>NaN</td>\n",
       "      <td>NaN</td>\n",
       "      <td>NaN</td>\n",
       "      <td>NaN</td>\n",
       "      <td>NaN</td>\n",
       "    </tr>\n",
       "    <tr>\n",
       "      <th>airline_sentiment_confidence</th>\n",
       "      <td>14640</td>\n",
       "      <td>NaN</td>\n",
       "      <td>NaN</td>\n",
       "      <td>NaN</td>\n",
       "      <td>0.900169</td>\n",
       "      <td>0.16283</td>\n",
       "      <td>0.335</td>\n",
       "      <td>0.6923</td>\n",
       "      <td>1</td>\n",
       "      <td>1</td>\n",
       "      <td>1</td>\n",
       "    </tr>\n",
       "    <tr>\n",
       "      <th>negativereason</th>\n",
       "      <td>9178</td>\n",
       "      <td>10</td>\n",
       "      <td>Customer Service Issue</td>\n",
       "      <td>2910</td>\n",
       "      <td>NaN</td>\n",
       "      <td>NaN</td>\n",
       "      <td>NaN</td>\n",
       "      <td>NaN</td>\n",
       "      <td>NaN</td>\n",
       "      <td>NaN</td>\n",
       "      <td>NaN</td>\n",
       "    </tr>\n",
       "    <tr>\n",
       "      <th>negativereason_confidence</th>\n",
       "      <td>10522</td>\n",
       "      <td>NaN</td>\n",
       "      <td>NaN</td>\n",
       "      <td>NaN</td>\n",
       "      <td>0.638298</td>\n",
       "      <td>0.33044</td>\n",
       "      <td>0</td>\n",
       "      <td>0.3606</td>\n",
       "      <td>0.6706</td>\n",
       "      <td>1</td>\n",
       "      <td>1</td>\n",
       "    </tr>\n",
       "    <tr>\n",
       "      <th>airline</th>\n",
       "      <td>14640</td>\n",
       "      <td>6</td>\n",
       "      <td>United</td>\n",
       "      <td>3822</td>\n",
       "      <td>NaN</td>\n",
       "      <td>NaN</td>\n",
       "      <td>NaN</td>\n",
       "      <td>NaN</td>\n",
       "      <td>NaN</td>\n",
       "      <td>NaN</td>\n",
       "      <td>NaN</td>\n",
       "    </tr>\n",
       "    <tr>\n",
       "      <th>airline_sentiment_gold</th>\n",
       "      <td>40</td>\n",
       "      <td>3</td>\n",
       "      <td>negative</td>\n",
       "      <td>32</td>\n",
       "      <td>NaN</td>\n",
       "      <td>NaN</td>\n",
       "      <td>NaN</td>\n",
       "      <td>NaN</td>\n",
       "      <td>NaN</td>\n",
       "      <td>NaN</td>\n",
       "      <td>NaN</td>\n",
       "    </tr>\n",
       "    <tr>\n",
       "      <th>name</th>\n",
       "      <td>14640</td>\n",
       "      <td>7701</td>\n",
       "      <td>JetBlueNews</td>\n",
       "      <td>63</td>\n",
       "      <td>NaN</td>\n",
       "      <td>NaN</td>\n",
       "      <td>NaN</td>\n",
       "      <td>NaN</td>\n",
       "      <td>NaN</td>\n",
       "      <td>NaN</td>\n",
       "      <td>NaN</td>\n",
       "    </tr>\n",
       "    <tr>\n",
       "      <th>negativereason_gold</th>\n",
       "      <td>32</td>\n",
       "      <td>13</td>\n",
       "      <td>Customer Service Issue</td>\n",
       "      <td>12</td>\n",
       "      <td>NaN</td>\n",
       "      <td>NaN</td>\n",
       "      <td>NaN</td>\n",
       "      <td>NaN</td>\n",
       "      <td>NaN</td>\n",
       "      <td>NaN</td>\n",
       "      <td>NaN</td>\n",
       "    </tr>\n",
       "    <tr>\n",
       "      <th>retweet_count</th>\n",
       "      <td>14640</td>\n",
       "      <td>NaN</td>\n",
       "      <td>NaN</td>\n",
       "      <td>NaN</td>\n",
       "      <td>0.0826503</td>\n",
       "      <td>0.745778</td>\n",
       "      <td>0</td>\n",
       "      <td>0</td>\n",
       "      <td>0</td>\n",
       "      <td>0</td>\n",
       "      <td>44</td>\n",
       "    </tr>\n",
       "    <tr>\n",
       "      <th>text</th>\n",
       "      <td>14640</td>\n",
       "      <td>14427</td>\n",
       "      <td>@united thanks</td>\n",
       "      <td>6</td>\n",
       "      <td>NaN</td>\n",
       "      <td>NaN</td>\n",
       "      <td>NaN</td>\n",
       "      <td>NaN</td>\n",
       "      <td>NaN</td>\n",
       "      <td>NaN</td>\n",
       "      <td>NaN</td>\n",
       "    </tr>\n",
       "    <tr>\n",
       "      <th>tweet_coord</th>\n",
       "      <td>1019</td>\n",
       "      <td>832</td>\n",
       "      <td>[0.0, 0.0]</td>\n",
       "      <td>164</td>\n",
       "      <td>NaN</td>\n",
       "      <td>NaN</td>\n",
       "      <td>NaN</td>\n",
       "      <td>NaN</td>\n",
       "      <td>NaN</td>\n",
       "      <td>NaN</td>\n",
       "      <td>NaN</td>\n",
       "    </tr>\n",
       "    <tr>\n",
       "      <th>tweet_created</th>\n",
       "      <td>14640</td>\n",
       "      <td>14247</td>\n",
       "      <td>2015-02-24 09:54:34 -0800</td>\n",
       "      <td>5</td>\n",
       "      <td>NaN</td>\n",
       "      <td>NaN</td>\n",
       "      <td>NaN</td>\n",
       "      <td>NaN</td>\n",
       "      <td>NaN</td>\n",
       "      <td>NaN</td>\n",
       "      <td>NaN</td>\n",
       "    </tr>\n",
       "    <tr>\n",
       "      <th>tweet_location</th>\n",
       "      <td>9907</td>\n",
       "      <td>3081</td>\n",
       "      <td>Boston, MA</td>\n",
       "      <td>157</td>\n",
       "      <td>NaN</td>\n",
       "      <td>NaN</td>\n",
       "      <td>NaN</td>\n",
       "      <td>NaN</td>\n",
       "      <td>NaN</td>\n",
       "      <td>NaN</td>\n",
       "      <td>NaN</td>\n",
       "    </tr>\n",
       "    <tr>\n",
       "      <th>user_timezone</th>\n",
       "      <td>9820</td>\n",
       "      <td>85</td>\n",
       "      <td>Eastern Time (US &amp; Canada)</td>\n",
       "      <td>3744</td>\n",
       "      <td>NaN</td>\n",
       "      <td>NaN</td>\n",
       "      <td>NaN</td>\n",
       "      <td>NaN</td>\n",
       "      <td>NaN</td>\n",
       "      <td>NaN</td>\n",
       "      <td>NaN</td>\n",
       "    </tr>\n",
       "  </tbody>\n",
       "</table>\n",
       "</div>"
      ],
      "text/plain": [
       "                              count unique                         top  freq  \\\n",
       "tweet_id                      14640    NaN                         NaN   NaN   \n",
       "airline_sentiment             14640      3                    negative  9178   \n",
       "airline_sentiment_confidence  14640    NaN                         NaN   NaN   \n",
       "negativereason                 9178     10      Customer Service Issue  2910   \n",
       "negativereason_confidence     10522    NaN                         NaN   NaN   \n",
       "airline                       14640      6                      United  3822   \n",
       "airline_sentiment_gold           40      3                    negative    32   \n",
       "name                          14640   7701                 JetBlueNews    63   \n",
       "negativereason_gold              32     13      Customer Service Issue    12   \n",
       "retweet_count                 14640    NaN                         NaN   NaN   \n",
       "text                          14640  14427              @united thanks     6   \n",
       "tweet_coord                    1019    832                  [0.0, 0.0]   164   \n",
       "tweet_created                 14640  14247   2015-02-24 09:54:34 -0800     5   \n",
       "tweet_location                 9907   3081                  Boston, MA   157   \n",
       "user_timezone                  9820     85  Eastern Time (US & Canada)  3744   \n",
       "\n",
       "                                     mean          std          min  \\\n",
       "tweet_id                      5.69218e+17  7.79111e+14  5.67588e+17   \n",
       "airline_sentiment                     NaN          NaN          NaN   \n",
       "airline_sentiment_confidence     0.900169      0.16283        0.335   \n",
       "negativereason                        NaN          NaN          NaN   \n",
       "negativereason_confidence        0.638298      0.33044            0   \n",
       "airline                               NaN          NaN          NaN   \n",
       "airline_sentiment_gold                NaN          NaN          NaN   \n",
       "name                                  NaN          NaN          NaN   \n",
       "negativereason_gold                   NaN          NaN          NaN   \n",
       "retweet_count                   0.0826503     0.745778            0   \n",
       "text                                  NaN          NaN          NaN   \n",
       "tweet_coord                           NaN          NaN          NaN   \n",
       "tweet_created                         NaN          NaN          NaN   \n",
       "tweet_location                        NaN          NaN          NaN   \n",
       "user_timezone                         NaN          NaN          NaN   \n",
       "\n",
       "                                      25%          50%         75%  \\\n",
       "tweet_id                      5.68559e+17  5.69478e+17  5.6989e+17   \n",
       "airline_sentiment                     NaN          NaN         NaN   \n",
       "airline_sentiment_confidence       0.6923            1           1   \n",
       "negativereason                        NaN          NaN         NaN   \n",
       "negativereason_confidence          0.3606       0.6706           1   \n",
       "airline                               NaN          NaN         NaN   \n",
       "airline_sentiment_gold                NaN          NaN         NaN   \n",
       "name                                  NaN          NaN         NaN   \n",
       "negativereason_gold                   NaN          NaN         NaN   \n",
       "retweet_count                           0            0           0   \n",
       "text                                  NaN          NaN         NaN   \n",
       "tweet_coord                           NaN          NaN         NaN   \n",
       "tweet_created                         NaN          NaN         NaN   \n",
       "tweet_location                        NaN          NaN         NaN   \n",
       "user_timezone                         NaN          NaN         NaN   \n",
       "\n",
       "                                      max  \n",
       "tweet_id                      5.70311e+17  \n",
       "airline_sentiment                     NaN  \n",
       "airline_sentiment_confidence            1  \n",
       "negativereason                        NaN  \n",
       "negativereason_confidence               1  \n",
       "airline                               NaN  \n",
       "airline_sentiment_gold                NaN  \n",
       "name                                  NaN  \n",
       "negativereason_gold                   NaN  \n",
       "retweet_count                          44  \n",
       "text                                  NaN  \n",
       "tweet_coord                           NaN  \n",
       "tweet_created                         NaN  \n",
       "tweet_location                        NaN  \n",
       "user_timezone                         NaN  "
      ]
     },
     "execution_count": 50,
     "metadata": {},
     "output_type": "execute_result"
    }
   ],
   "source": [
    "tweet.describe(include='all').T"
   ]
  },
  {
   "cell_type": "code",
   "execution_count": 51,
   "metadata": {},
   "outputs": [
    {
     "data": {
      "text/html": [
       "<div>\n",
       "<style scoped>\n",
       "    .dataframe tbody tr th:only-of-type {\n",
       "        vertical-align: middle;\n",
       "    }\n",
       "\n",
       "    .dataframe tbody tr th {\n",
       "        vertical-align: top;\n",
       "    }\n",
       "\n",
       "    .dataframe thead th {\n",
       "        text-align: right;\n",
       "    }\n",
       "</style>\n",
       "<table border=\"1\" class=\"dataframe\">\n",
       "  <thead>\n",
       "    <tr style=\"text-align: right;\">\n",
       "      <th></th>\n",
       "      <th>tweet_id</th>\n",
       "      <th>airline_sentiment</th>\n",
       "      <th>airline_sentiment_confidence</th>\n",
       "      <th>negativereason</th>\n",
       "      <th>negativereason_confidence</th>\n",
       "      <th>airline</th>\n",
       "      <th>airline_sentiment_gold</th>\n",
       "      <th>name</th>\n",
       "      <th>negativereason_gold</th>\n",
       "      <th>retweet_count</th>\n",
       "      <th>text</th>\n",
       "      <th>tweet_coord</th>\n",
       "      <th>tweet_created</th>\n",
       "      <th>tweet_location</th>\n",
       "      <th>user_timezone</th>\n",
       "    </tr>\n",
       "  </thead>\n",
       "  <tbody>\n",
       "    <tr>\n",
       "      <th>11879</th>\n",
       "      <td>570308309682675712</td>\n",
       "      <td>negative</td>\n",
       "      <td>1.0</td>\n",
       "      <td>Customer Service Issue</td>\n",
       "      <td>1.0</td>\n",
       "      <td>American</td>\n",
       "      <td>NaN</td>\n",
       "      <td>SweeLoTmac</td>\n",
       "      <td>NaN</td>\n",
       "      <td>0</td>\n",
       "      <td>@AmericanAir why would I even consider continu...</td>\n",
       "      <td>NaN</td>\n",
       "      <td>2015-02-24 11:44:31 -0800</td>\n",
       "      <td>NaN</td>\n",
       "      <td>Quito</td>\n",
       "    </tr>\n",
       "    <tr>\n",
       "      <th>11898</th>\n",
       "      <td>570305051819941889</td>\n",
       "      <td>neutral</td>\n",
       "      <td>1.0</td>\n",
       "      <td>NaN</td>\n",
       "      <td>NaN</td>\n",
       "      <td>American</td>\n",
       "      <td>NaN</td>\n",
       "      <td>Chandrafaythe</td>\n",
       "      <td>NaN</td>\n",
       "      <td>0</td>\n",
       "      <td>@AmericanAir my flight got Cancelled Flightled...</td>\n",
       "      <td>NaN</td>\n",
       "      <td>2015-02-24 11:31:34 -0800</td>\n",
       "      <td>NaN</td>\n",
       "      <td>Quito</td>\n",
       "    </tr>\n",
       "    <tr>\n",
       "      <th>11902</th>\n",
       "      <td>570303383782989824</td>\n",
       "      <td>neutral</td>\n",
       "      <td>1.0</td>\n",
       "      <td>NaN</td>\n",
       "      <td>NaN</td>\n",
       "      <td>American</td>\n",
       "      <td>NaN</td>\n",
       "      <td>trentgillaspie</td>\n",
       "      <td>NaN</td>\n",
       "      <td>0</td>\n",
       "      <td>.@AmericanAir just disappointed with the Fligh...</td>\n",
       "      <td>NaN</td>\n",
       "      <td>2015-02-24 11:24:57 -0800</td>\n",
       "      <td>Austin, but often Denver</td>\n",
       "      <td>Mountain Time (US &amp; Canada)</td>\n",
       "    </tr>\n",
       "    <tr>\n",
       "      <th>11905</th>\n",
       "      <td>570301929580048385</td>\n",
       "      <td>neutral</td>\n",
       "      <td>1.0</td>\n",
       "      <td>NaN</td>\n",
       "      <td>NaN</td>\n",
       "      <td>American</td>\n",
       "      <td>NaN</td>\n",
       "      <td>FinEdChat</td>\n",
       "      <td>NaN</td>\n",
       "      <td>0</td>\n",
       "      <td>@AmericanAir I did</td>\n",
       "      <td>NaN</td>\n",
       "      <td>2015-02-24 11:19:10 -0800</td>\n",
       "      <td>Cincinnati, Ohio</td>\n",
       "      <td>Atlantic Time (Canada)</td>\n",
       "    </tr>\n",
       "    <tr>\n",
       "      <th>11907</th>\n",
       "      <td>570301395141836801</td>\n",
       "      <td>negative</td>\n",
       "      <td>1.0</td>\n",
       "      <td>Late Flight</td>\n",
       "      <td>1.0</td>\n",
       "      <td>American</td>\n",
       "      <td>NaN</td>\n",
       "      <td>JoBarredaV</td>\n",
       "      <td>NaN</td>\n",
       "      <td>1</td>\n",
       "      <td>@AmericanAir r u serious?? 304min #delay with ...</td>\n",
       "      <td>NaN</td>\n",
       "      <td>2015-02-24 11:17:02 -0800</td>\n",
       "      <td>Mexico City</td>\n",
       "      <td>Central Time (US &amp; Canada)</td>\n",
       "    </tr>\n",
       "    <tr>\n",
       "      <th>...</th>\n",
       "      <td>...</td>\n",
       "      <td>...</td>\n",
       "      <td>...</td>\n",
       "      <td>...</td>\n",
       "      <td>...</td>\n",
       "      <td>...</td>\n",
       "      <td>...</td>\n",
       "      <td>...</td>\n",
       "      <td>...</td>\n",
       "      <td>...</td>\n",
       "      <td>...</td>\n",
       "      <td>...</td>\n",
       "      <td>...</td>\n",
       "      <td>...</td>\n",
       "      <td>...</td>\n",
       "    </tr>\n",
       "    <tr>\n",
       "      <th>12155</th>\n",
       "      <td>570275010759102466</td>\n",
       "      <td>negative</td>\n",
       "      <td>1.0</td>\n",
       "      <td>Lost Luggage</td>\n",
       "      <td>1.0</td>\n",
       "      <td>American</td>\n",
       "      <td>NaN</td>\n",
       "      <td>paintbranch1398</td>\n",
       "      <td>NaN</td>\n",
       "      <td>0</td>\n",
       "      <td>@AmericanAir this delayed bag was for my frien...</td>\n",
       "      <td>NaN</td>\n",
       "      <td>2015-02-24 09:32:12 -0800</td>\n",
       "      <td>NaN</td>\n",
       "      <td>NaN</td>\n",
       "    </tr>\n",
       "    <tr>\n",
       "      <th>12157</th>\n",
       "      <td>570273819287531520</td>\n",
       "      <td>positive</td>\n",
       "      <td>1.0</td>\n",
       "      <td>NaN</td>\n",
       "      <td>NaN</td>\n",
       "      <td>American</td>\n",
       "      <td>NaN</td>\n",
       "      <td>GoldensPleasure</td>\n",
       "      <td>NaN</td>\n",
       "      <td>0</td>\n",
       "      <td>@AmericanAir Aww Thanks AA..DFW was on GMA up ...</td>\n",
       "      <td>NaN</td>\n",
       "      <td>2015-02-24 09:27:28 -0800</td>\n",
       "      <td>East Coast     CT.</td>\n",
       "      <td>Central Time (US &amp; Canada)</td>\n",
       "    </tr>\n",
       "    <tr>\n",
       "      <th>12158</th>\n",
       "      <td>570273710210469888</td>\n",
       "      <td>positive</td>\n",
       "      <td>1.0</td>\n",
       "      <td>NaN</td>\n",
       "      <td>NaN</td>\n",
       "      <td>American</td>\n",
       "      <td>NaN</td>\n",
       "      <td>Mtts28</td>\n",
       "      <td>NaN</td>\n",
       "      <td>0</td>\n",
       "      <td>@AmericanAir These are some awesome photos. Th...</td>\n",
       "      <td>NaN</td>\n",
       "      <td>2015-02-24 09:27:02 -0800</td>\n",
       "      <td>Virginia</td>\n",
       "      <td>Eastern Time (US &amp; Canada)</td>\n",
       "    </tr>\n",
       "    <tr>\n",
       "      <th>12159</th>\n",
       "      <td>570272880556011520</td>\n",
       "      <td>positive</td>\n",
       "      <td>1.0</td>\n",
       "      <td>NaN</td>\n",
       "      <td>NaN</td>\n",
       "      <td>American</td>\n",
       "      <td>NaN</td>\n",
       "      <td>ESPartee</td>\n",
       "      <td>NaN</td>\n",
       "      <td>0</td>\n",
       "      <td>@americanair new plane, #gogo, easy power for ...</td>\n",
       "      <td>[0.0, 0.0]</td>\n",
       "      <td>2015-02-24 09:23:44 -0800</td>\n",
       "      <td>alexandria, va</td>\n",
       "      <td>Eastern Time (US &amp; Canada)</td>\n",
       "    </tr>\n",
       "    <tr>\n",
       "      <th>12162</th>\n",
       "      <td>570272018840428544</td>\n",
       "      <td>neutral</td>\n",
       "      <td>1.0</td>\n",
       "      <td>NaN</td>\n",
       "      <td>NaN</td>\n",
       "      <td>American</td>\n",
       "      <td>NaN</td>\n",
       "      <td>pokecrastinator</td>\n",
       "      <td>NaN</td>\n",
       "      <td>0</td>\n",
       "      <td>@AmericanAir I thought all those planes were r...</td>\n",
       "      <td>NaN</td>\n",
       "      <td>2015-02-24 09:20:19 -0800</td>\n",
       "      <td>United States</td>\n",
       "      <td>Mountain Time (US &amp; Canada)</td>\n",
       "    </tr>\n",
       "  </tbody>\n",
       "</table>\n",
       "<p>72 rows × 15 columns</p>\n",
       "</div>"
      ],
      "text/plain": [
       "                 tweet_id airline_sentiment  airline_sentiment_confidence  \\\n",
       "11879  570308309682675712          negative                           1.0   \n",
       "11898  570305051819941889           neutral                           1.0   \n",
       "11902  570303383782989824           neutral                           1.0   \n",
       "11905  570301929580048385           neutral                           1.0   \n",
       "11907  570301395141836801          negative                           1.0   \n",
       "...                   ...               ...                           ...   \n",
       "12155  570275010759102466          negative                           1.0   \n",
       "12157  570273819287531520          positive                           1.0   \n",
       "12158  570273710210469888          positive                           1.0   \n",
       "12159  570272880556011520          positive                           1.0   \n",
       "12162  570272018840428544           neutral                           1.0   \n",
       "\n",
       "               negativereason  negativereason_confidence   airline  \\\n",
       "11879  Customer Service Issue                        1.0  American   \n",
       "11898                     NaN                        NaN  American   \n",
       "11902                     NaN                        NaN  American   \n",
       "11905                     NaN                        NaN  American   \n",
       "11907             Late Flight                        1.0  American   \n",
       "...                       ...                        ...       ...   \n",
       "12155            Lost Luggage                        1.0  American   \n",
       "12157                     NaN                        NaN  American   \n",
       "12158                     NaN                        NaN  American   \n",
       "12159                     NaN                        NaN  American   \n",
       "12162                     NaN                        NaN  American   \n",
       "\n",
       "      airline_sentiment_gold             name negativereason_gold  \\\n",
       "11879                    NaN       SweeLoTmac                 NaN   \n",
       "11898                    NaN    Chandrafaythe                 NaN   \n",
       "11902                    NaN   trentgillaspie                 NaN   \n",
       "11905                    NaN        FinEdChat                 NaN   \n",
       "11907                    NaN       JoBarredaV                 NaN   \n",
       "...                      ...              ...                 ...   \n",
       "12155                    NaN  paintbranch1398                 NaN   \n",
       "12157                    NaN  GoldensPleasure                 NaN   \n",
       "12158                    NaN           Mtts28                 NaN   \n",
       "12159                    NaN         ESPartee                 NaN   \n",
       "12162                    NaN  pokecrastinator                 NaN   \n",
       "\n",
       "       retweet_count                                               text  \\\n",
       "11879              0  @AmericanAir why would I even consider continu...   \n",
       "11898              0  @AmericanAir my flight got Cancelled Flightled...   \n",
       "11902              0  .@AmericanAir just disappointed with the Fligh...   \n",
       "11905              0                                 @AmericanAir I did   \n",
       "11907              1  @AmericanAir r u serious?? 304min #delay with ...   \n",
       "...              ...                                                ...   \n",
       "12155              0  @AmericanAir this delayed bag was for my frien...   \n",
       "12157              0  @AmericanAir Aww Thanks AA..DFW was on GMA up ...   \n",
       "12158              0  @AmericanAir These are some awesome photos. Th...   \n",
       "12159              0  @americanair new plane, #gogo, easy power for ...   \n",
       "12162              0  @AmericanAir I thought all those planes were r...   \n",
       "\n",
       "      tweet_coord              tweet_created            tweet_location  \\\n",
       "11879         NaN  2015-02-24 11:44:31 -0800                       NaN   \n",
       "11898         NaN  2015-02-24 11:31:34 -0800                       NaN   \n",
       "11902         NaN  2015-02-24 11:24:57 -0800  Austin, but often Denver   \n",
       "11905         NaN  2015-02-24 11:19:10 -0800          Cincinnati, Ohio   \n",
       "11907         NaN  2015-02-24 11:17:02 -0800               Mexico City   \n",
       "...           ...                        ...                       ...   \n",
       "12155         NaN  2015-02-24 09:32:12 -0800                       NaN   \n",
       "12157         NaN  2015-02-24 09:27:28 -0800        East Coast     CT.   \n",
       "12158         NaN  2015-02-24 09:27:02 -0800                  Virginia   \n",
       "12159  [0.0, 0.0]  2015-02-24 09:23:44 -0800            alexandria, va   \n",
       "12162         NaN  2015-02-24 09:20:19 -0800             United States   \n",
       "\n",
       "                     user_timezone  \n",
       "11879                        Quito  \n",
       "11898                        Quito  \n",
       "11902  Mountain Time (US & Canada)  \n",
       "11905       Atlantic Time (Canada)  \n",
       "11907   Central Time (US & Canada)  \n",
       "...                            ...  \n",
       "12155                          NaN  \n",
       "12157   Central Time (US & Canada)  \n",
       "12158   Eastern Time (US & Canada)  \n",
       "12159   Eastern Time (US & Canada)  \n",
       "12162  Mountain Time (US & Canada)  \n",
       "\n",
       "[72 rows x 15 columns]"
      ]
     },
     "execution_count": 51,
     "metadata": {},
     "output_type": "execute_result"
    }
   ],
   "source": [
    "tweet[tweet.duplicated(keep=False)]"
   ]
  },
  {
   "cell_type": "markdown",
   "metadata": {},
   "source": [
    "<font color='green'>**Preliminary data analysis:** \n",
    "- There are 14640 rows and 15 columns in the dataset\n",
    "- There are missing values but our fields of interest doesn't have missing values\n",
    "- There are duplicates rows also that needs duplicate treatment\n",
    "- There are several columns with NAN values but those are not of our interest\n",
    "</font>"
   ]
  },
  {
   "cell_type": "markdown",
   "metadata": {},
   "source": [
    "### 2. Additional Analysis: Study the data distribution in target variable and taking care of data issues"
   ]
  },
  {
   "cell_type": "code",
   "execution_count": 52,
   "metadata": {},
   "outputs": [
    {
     "data": {
      "text/plain": [
       "tweet_id                        14485\n",
       "airline_sentiment                   3\n",
       "airline_sentiment_confidence     1023\n",
       "negativereason                     10\n",
       "negativereason_confidence        1410\n",
       "airline                             6\n",
       "airline_sentiment_gold              3\n",
       "name                             7701\n",
       "negativereason_gold                13\n",
       "retweet_count                      18\n",
       "text                            14427\n",
       "tweet_coord                       832\n",
       "tweet_created                   14247\n",
       "tweet_location                   3081\n",
       "user_timezone                      85\n",
       "dtype: int64"
      ]
     },
     "execution_count": 52,
     "metadata": {},
     "output_type": "execute_result"
    }
   ],
   "source": [
    "# Number of unique in each column\n",
    "\n",
    "tweet.nunique()"
   ]
  },
  {
   "cell_type": "code",
   "execution_count": 53,
   "metadata": {},
   "outputs": [],
   "source": [
    "# drop all unwanted columns before duplicate treatment\n",
    "\n",
    "tweet = tweet[['tweet_id','airline_sentiment','text']]"
   ]
  },
  {
   "cell_type": "code",
   "execution_count": 54,
   "metadata": {},
   "outputs": [
    {
     "data": {
      "text/html": [
       "<div>\n",
       "<style scoped>\n",
       "    .dataframe tbody tr th:only-of-type {\n",
       "        vertical-align: middle;\n",
       "    }\n",
       "\n",
       "    .dataframe tbody tr th {\n",
       "        vertical-align: top;\n",
       "    }\n",
       "\n",
       "    .dataframe thead th {\n",
       "        text-align: right;\n",
       "    }\n",
       "</style>\n",
       "<table border=\"1\" class=\"dataframe\">\n",
       "  <thead>\n",
       "    <tr style=\"text-align: right;\">\n",
       "      <th></th>\n",
       "      <th>tweet_id</th>\n",
       "      <th>airline_sentiment</th>\n",
       "      <th>text</th>\n",
       "    </tr>\n",
       "  </thead>\n",
       "  <tbody>\n",
       "    <tr>\n",
       "      <th>0</th>\n",
       "      <td>570306133677760513</td>\n",
       "      <td>neutral</td>\n",
       "      <td>@VirginAmerica What @dhepburn said.</td>\n",
       "    </tr>\n",
       "    <tr>\n",
       "      <th>1</th>\n",
       "      <td>570301130888122368</td>\n",
       "      <td>positive</td>\n",
       "      <td>@VirginAmerica plus you've added commercials t...</td>\n",
       "    </tr>\n",
       "    <tr>\n",
       "      <th>2</th>\n",
       "      <td>570301083672813571</td>\n",
       "      <td>neutral</td>\n",
       "      <td>@VirginAmerica I didn't today... Must mean I n...</td>\n",
       "    </tr>\n",
       "    <tr>\n",
       "      <th>3</th>\n",
       "      <td>570301031407624196</td>\n",
       "      <td>negative</td>\n",
       "      <td>@VirginAmerica it's really aggressive to blast...</td>\n",
       "    </tr>\n",
       "    <tr>\n",
       "      <th>4</th>\n",
       "      <td>570300817074462722</td>\n",
       "      <td>negative</td>\n",
       "      <td>@VirginAmerica and it's a really big bad thing...</td>\n",
       "    </tr>\n",
       "    <tr>\n",
       "      <th>...</th>\n",
       "      <td>...</td>\n",
       "      <td>...</td>\n",
       "      <td>...</td>\n",
       "    </tr>\n",
       "    <tr>\n",
       "      <th>14635</th>\n",
       "      <td>569587686496825344</td>\n",
       "      <td>positive</td>\n",
       "      <td>@AmericanAir thank you we got on a different f...</td>\n",
       "    </tr>\n",
       "    <tr>\n",
       "      <th>14636</th>\n",
       "      <td>569587371693355008</td>\n",
       "      <td>negative</td>\n",
       "      <td>@AmericanAir leaving over 20 minutes Late Flig...</td>\n",
       "    </tr>\n",
       "    <tr>\n",
       "      <th>14637</th>\n",
       "      <td>569587242672398336</td>\n",
       "      <td>neutral</td>\n",
       "      <td>@AmericanAir Please bring American Airlines to...</td>\n",
       "    </tr>\n",
       "    <tr>\n",
       "      <th>14638</th>\n",
       "      <td>569587188687634433</td>\n",
       "      <td>negative</td>\n",
       "      <td>@AmericanAir you have my money, you change my ...</td>\n",
       "    </tr>\n",
       "    <tr>\n",
       "      <th>14639</th>\n",
       "      <td>569587140490866689</td>\n",
       "      <td>neutral</td>\n",
       "      <td>@AmericanAir we have 8 ppl so we need 2 know h...</td>\n",
       "    </tr>\n",
       "  </tbody>\n",
       "</table>\n",
       "<p>14640 rows × 3 columns</p>\n",
       "</div>"
      ],
      "text/plain": [
       "                 tweet_id airline_sentiment  \\\n",
       "0      570306133677760513           neutral   \n",
       "1      570301130888122368          positive   \n",
       "2      570301083672813571           neutral   \n",
       "3      570301031407624196          negative   \n",
       "4      570300817074462722          negative   \n",
       "...                   ...               ...   \n",
       "14635  569587686496825344          positive   \n",
       "14636  569587371693355008          negative   \n",
       "14637  569587242672398336           neutral   \n",
       "14638  569587188687634433          negative   \n",
       "14639  569587140490866689           neutral   \n",
       "\n",
       "                                                    text  \n",
       "0                    @VirginAmerica What @dhepburn said.  \n",
       "1      @VirginAmerica plus you've added commercials t...  \n",
       "2      @VirginAmerica I didn't today... Must mean I n...  \n",
       "3      @VirginAmerica it's really aggressive to blast...  \n",
       "4      @VirginAmerica and it's a really big bad thing...  \n",
       "...                                                  ...  \n",
       "14635  @AmericanAir thank you we got on a different f...  \n",
       "14636  @AmericanAir leaving over 20 minutes Late Flig...  \n",
       "14637  @AmericanAir Please bring American Airlines to...  \n",
       "14638  @AmericanAir you have my money, you change my ...  \n",
       "14639  @AmericanAir we have 8 ppl so we need 2 know h...  \n",
       "\n",
       "[14640 rows x 3 columns]"
      ]
     },
     "execution_count": 54,
     "metadata": {},
     "output_type": "execute_result"
    }
   ],
   "source": [
    "tweet"
   ]
  },
  {
   "cell_type": "code",
   "execution_count": 55,
   "metadata": {},
   "outputs": [],
   "source": [
    "# Deleteing duplicates\n",
    "\n",
    "tweet.drop_duplicates(keep='first', inplace=True)"
   ]
  },
  {
   "cell_type": "code",
   "execution_count": 56,
   "metadata": {},
   "outputs": [
    {
     "data": {
      "text/plain": [
       "(14503, 3)"
      ]
     },
     "execution_count": 56,
     "metadata": {},
     "output_type": "execute_result"
    }
   ],
   "source": [
    "tweet.shape"
   ]
  },
  {
   "cell_type": "code",
   "execution_count": 57,
   "metadata": {},
   "outputs": [],
   "source": [
    "# seperate out tweet id\n",
    "\n",
    "tweet_id = tweet['tweet_id']\n",
    "\n",
    "tweet.drop(columns='tweet_id', inplace=True)"
   ]
  },
  {
   "cell_type": "code",
   "execution_count": 58,
   "metadata": {},
   "outputs": [
    {
     "data": {
      "text/html": [
       "<div>\n",
       "<style scoped>\n",
       "    .dataframe tbody tr th:only-of-type {\n",
       "        vertical-align: middle;\n",
       "    }\n",
       "\n",
       "    .dataframe tbody tr th {\n",
       "        vertical-align: top;\n",
       "    }\n",
       "\n",
       "    .dataframe thead th {\n",
       "        text-align: right;\n",
       "    }\n",
       "</style>\n",
       "<table border=\"1\" class=\"dataframe\">\n",
       "  <thead>\n",
       "    <tr style=\"text-align: right;\">\n",
       "      <th></th>\n",
       "      <th>airline_sentiment</th>\n",
       "      <th>text</th>\n",
       "    </tr>\n",
       "  </thead>\n",
       "  <tbody>\n",
       "    <tr>\n",
       "      <th>0</th>\n",
       "      <td>neutral</td>\n",
       "      <td>@VirginAmerica What @dhepburn said.</td>\n",
       "    </tr>\n",
       "    <tr>\n",
       "      <th>1</th>\n",
       "      <td>positive</td>\n",
       "      <td>@VirginAmerica plus you've added commercials t...</td>\n",
       "    </tr>\n",
       "    <tr>\n",
       "      <th>2</th>\n",
       "      <td>neutral</td>\n",
       "      <td>@VirginAmerica I didn't today... Must mean I n...</td>\n",
       "    </tr>\n",
       "    <tr>\n",
       "      <th>3</th>\n",
       "      <td>negative</td>\n",
       "      <td>@VirginAmerica it's really aggressive to blast...</td>\n",
       "    </tr>\n",
       "    <tr>\n",
       "      <th>4</th>\n",
       "      <td>negative</td>\n",
       "      <td>@VirginAmerica and it's a really big bad thing...</td>\n",
       "    </tr>\n",
       "    <tr>\n",
       "      <th>...</th>\n",
       "      <td>...</td>\n",
       "      <td>...</td>\n",
       "    </tr>\n",
       "    <tr>\n",
       "      <th>14635</th>\n",
       "      <td>positive</td>\n",
       "      <td>@AmericanAir thank you we got on a different f...</td>\n",
       "    </tr>\n",
       "    <tr>\n",
       "      <th>14636</th>\n",
       "      <td>negative</td>\n",
       "      <td>@AmericanAir leaving over 20 minutes Late Flig...</td>\n",
       "    </tr>\n",
       "    <tr>\n",
       "      <th>14637</th>\n",
       "      <td>neutral</td>\n",
       "      <td>@AmericanAir Please bring American Airlines to...</td>\n",
       "    </tr>\n",
       "    <tr>\n",
       "      <th>14638</th>\n",
       "      <td>negative</td>\n",
       "      <td>@AmericanAir you have my money, you change my ...</td>\n",
       "    </tr>\n",
       "    <tr>\n",
       "      <th>14639</th>\n",
       "      <td>neutral</td>\n",
       "      <td>@AmericanAir we have 8 ppl so we need 2 know h...</td>\n",
       "    </tr>\n",
       "  </tbody>\n",
       "</table>\n",
       "<p>14503 rows × 2 columns</p>\n",
       "</div>"
      ],
      "text/plain": [
       "      airline_sentiment                                               text\n",
       "0               neutral                @VirginAmerica What @dhepburn said.\n",
       "1              positive  @VirginAmerica plus you've added commercials t...\n",
       "2               neutral  @VirginAmerica I didn't today... Must mean I n...\n",
       "3              negative  @VirginAmerica it's really aggressive to blast...\n",
       "4              negative  @VirginAmerica and it's a really big bad thing...\n",
       "...                 ...                                                ...\n",
       "14635          positive  @AmericanAir thank you we got on a different f...\n",
       "14636          negative  @AmericanAir leaving over 20 minutes Late Flig...\n",
       "14637           neutral  @AmericanAir Please bring American Airlines to...\n",
       "14638          negative  @AmericanAir you have my money, you change my ...\n",
       "14639           neutral  @AmericanAir we have 8 ppl so we need 2 know h...\n",
       "\n",
       "[14503 rows x 2 columns]"
      ]
     },
     "execution_count": 58,
     "metadata": {},
     "output_type": "execute_result"
    }
   ],
   "source": [
    "tweet"
   ]
  },
  {
   "cell_type": "code",
   "execution_count": 59,
   "metadata": {},
   "outputs": [
    {
     "name": "stdout",
     "output_type": "stream",
     "text": [
      "  airline_sentiment  count  frequency%\n",
      "0          negative   9089   62.669792\n",
      "1           neutral   3074   21.195615\n",
      "2          positive   2340   16.134593\n"
     ]
    }
   ],
   "source": [
    "# checking distribution of sentiment\n",
    "\n",
    "\n",
    "df=pd.concat([tweet['airline_sentiment'].value_counts(),tweet['airline_sentiment'].value_counts(normalize=True)*100],axis=1)\n",
    "df=df.reset_index()\n",
    "df.columns=['airline_sentiment','count','frequency%']\n",
    "print(df)"
   ]
  },
  {
   "cell_type": "markdown",
   "metadata": {},
   "source": [
    "### 3. Text pre-processing"
   ]
  },
  {
   "cell_type": "code",
   "execution_count": 60,
   "metadata": {},
   "outputs": [
    {
     "name": "stdout",
     "output_type": "stream",
     "text": [
      "0                                                                               @VirginAmerica What @dhepburn said.\n",
      "1                                          @VirginAmerica plus you've added commercials to the experience... tacky.\n",
      "2                                           @VirginAmerica I didn't today... Must mean I need to take another trip!\n",
      "3     @VirginAmerica it's really aggressive to blast obnoxious \"entertainment\" in your guests' faces &amp; they ...\n",
      "4                                                           @VirginAmerica and it's a really big bad thing about it\n",
      "5     @VirginAmerica seriously would pay $30 a flight for seats that didn't have this playing.\\nit's really the ...\n",
      "6                                   @VirginAmerica yes, nearly every time I fly VX this “ear worm” won’t go away :)\n",
      "7      @VirginAmerica Really missed a prime opportunity for Men Without Hats parody, there. https://t.co/mWpG7grEZP\n",
      "8                                                                   @virginamerica Well, I didn't…but NOW I DO! :-D\n",
      "9                                  @VirginAmerica it was amazing, and arrived an hour early. You're too good to me.\n",
      "10                  @VirginAmerica did you know that suicide is the second leading cause of death among teens 10-24\n",
      "11                              @VirginAmerica I &lt;3 pretty graphics. so much better than minimal iconography. :D\n",
      "12    @VirginAmerica This is such a great deal! Already thinking about my 2nd trip to @Australia &amp; I haven't...\n",
      "13    @VirginAmerica @virginmedia I'm flying your #fabulous #Seductive skies again! U take all the #stress away ...\n",
      "14                                                                                           @VirginAmerica Thanks!\n",
      "15                                                                    @VirginAmerica SFO-PDX schedule is still MIA.\n",
      "16    @VirginAmerica So excited for my first cross country flight LAX to MCO I've heard nothing but great things...\n",
      "17    @VirginAmerica  I flew from NYC to SFO last week and couldn't fully sit in my seat due to two large gentle...\n",
      "18                                                                                  I ❤️ flying @VirginAmerica. ☺️👍\n",
      "19      @VirginAmerica you know what would be amazingly awesome? BOS-FLL PLEASE!!!!!!! I want to fly with only you.\n",
      "20    @VirginAmerica why are your first fares in May over three times more than other carriers when all seats ar...\n",
      "21                                                       @VirginAmerica I love this graphic. http://t.co/UT5GrRwAaA\n",
      "22                                         @VirginAmerica I love the hipster innovation. You are a feel good brand.\n",
      "23                                  @VirginAmerica will you be making BOS&gt;LAS non stop permanently anytime soon?\n",
      "24    @VirginAmerica you guys messed up my seating.. I reserved seating with my friends and you guys gave my sea...\n",
      "Name: text, dtype: object\n",
      "\n",
      "\n",
      "\n",
      "14615    @AmericanAir  ugh Dump us in dfw w/no luggage then Cancelled Flight our flight 3 more times. Sat arrival n...\n",
      "14616    @AmericanAir Cancelled Flights my flight, doesn't send an email, text or call. Then puts me on way earlier...\n",
      "14617                                                                          @AmericanAir DMing you now! Big thanks.\n",
      "14618                  @AmericanAir 3078 is overweight so you pull 2 dozen passengers off? Why not luggage? Seriously?\n",
      "14619    @AmericanAir I love your company and your staff is amazing. They just made an uncomfortable situation comf...\n",
      "14620    @AmericanAir I wait 2+ hrs for CS to call me back re why  flt is cxld/protection &amp; they hang up the mi...\n",
      "14621    @AmericanAir I've been on hold for 55 mins about my Cancelled Flighted international flight. Am out of cou...\n",
      "14622                             I just need a place to sleep when I land without accommodations in PLS @AmericanAir!\n",
      "14623    @AmericanAir Love the new planes for the JFK-LAX run.  Maybe one day I will be on one where the amenities ...\n",
      "14624    @AmericanAir Call me Chairman, or call me Emerald. After what you did today to me, you can call me a forme...\n",
      "14625       @AmericanAir Flight 236 was great. Fantastic cabin crew. A+ landing. #thankyou #JFK http://t.co/dRW08djHAI\n",
      "14626    @AmericanAir Flight 953 NYC-Buenos Aires has been delay since yesterday at 10PM. Is going to take off at 3...\n",
      "14627    @AmericanAir Flight Cancelled Flightled, can't go home until tomorrow. I could use dinner and a play, @Ame...\n",
      "14628    Thank you. “@AmericanAir: @jlhalldc Customer Relations will review your concerns and contact you back dire...\n",
      "14629    @AmericanAir How do I change my flight if the phone system keeps telling me that the representatives are b...\n",
      "14630                                                                                      @AmericanAir Thanks! He is.\n",
      "14631    @AmericanAir thx for nothing on getting us out of the country and back to US. Broken plane? Come on. Get a...\n",
      "14632    “@AmericanAir: @TilleyMonsta George, that doesn't look good. Please follow this link to start the refund p...\n",
      "14633    @AmericanAir my flight was Cancelled Flightled, leaving tomorrow morning. Auto rebooked for a Tuesday nigh...\n",
      "14634                                                                       @AmericanAir right on cue with the delays👌\n",
      "14635                                                  @AmericanAir thank you we got on a different flight to Chicago.\n",
      "14636    @AmericanAir leaving over 20 minutes Late Flight. No warnings or communication until we were 15 minutes La...\n",
      "14637                                                     @AmericanAir Please bring American Airlines to #BlackBerry10\n",
      "14638    @AmericanAir you have my money, you change my flight, and don't answer your phones! Any other suggestions ...\n",
      "14639    @AmericanAir we have 8 ppl so we need 2 know how many seats are on the next flight. Plz put us on standby ...\n",
      "Name: text, dtype: object\n"
     ]
    }
   ],
   "source": [
    "# Visualize text data for better understanding\n",
    "\n",
    "pd.set_option(\"display.max_colwidth\",110)\n",
    "\n",
    "print(tweet['text'].head(25))\n",
    "print('')\n",
    "print('')\n",
    "print('')\n",
    "print(tweet['text'].tail(25))\n",
    "\n",
    "pd.set_option(\"display.max_colwidth\",50)"
   ]
  },
  {
   "cell_type": "code",
   "execution_count": 61,
   "metadata": {},
   "outputs": [],
   "source": [
    "# Spacy Initiation\n",
    "\n",
    "nlp = spacy.load('en_core_web_sm')"
   ]
  },
  {
   "cell_type": "code",
   "execution_count": 63,
   "metadata": {},
   "outputs": [
    {
     "name": "stdout",
     "output_type": "stream",
     "text": [
      "{'’ve', 'together', 'may', 'very', 'that', 'ourselves', 'thru', 'two', 'less', 'must', 'more', 'these', 'only', 'along', 'also', 'mine', 'whether', 'after', 'already', \"'m\", 'from', \"'d\", 'ever', 'when', 'keep', 'how', 'many', \"'s\", 'where', 'once', 'her', 'beyond', 'really', 'his', '‘s', 'serious', 'six', 'she', 'please', '’d', 'down', 'below', 'been', '‘d', 'either', 'back', '‘m', \"'ve\", 'anyone', 'does', 'nowhere', 'were', 'which', 'behind', 'go', 'us', 'might', 'sixty', 'quite', 'while', 'except', 'our', 'me', 'into', 'what', 'hereafter', 'full', 'than', 'moreover', 'each', 'nine', 'seems', 'am', 'becomes', 'amongst', 'too', 'since', 'thereby', 'whither', 'under', 'being', 'should', 'besides', 'regarding', 'doing', 'twenty', 'put', 'somewhere', 'up', 'fifty', 'fifteen', 'show', 'whereupon', '‘ve', 'during', 'everyone', 'had', 'became', \"'ll\", 'own', 'just', 'made', 'becoming', 'you', 'other', 'further', 'yourselves', 'for', 'i', 'itself', 'yourself', 'there', 'whose', 'rather', 'three', 'any', 'now', 'almost', 'themselves', 'but', 'both', 'next', 'whereafter', 'be', 'such', 'take', 'ten', 'are', 'else', 'every', 'indeed', 'if', '’re', 'towards', 'various', 'between', 'whence', 'about', 'give', '’s', 'first', 'otherwise', 'above', 'n’t', 'could', 'nobody', 'its', 'latterly', 'within', 'he', 'by', 'something', 'wherever', 'neither', 'mostly', 'elsewhere', 'ours', 'move', 'onto', 'who', 'seem', 'via', 'somehow', 'my', 'an', 'whom', 'perhaps', 'whereas', '‘re', 'they', 'off', 'we', 'even', 'someone', 'used', 're', 'due', 'still', 'thence', 'afterwards', 'though', 'sometime', 'will', 'side', 'therein', 'although', 'their', 'because', 'a', 'again', 'through', 'him', 'and', 'enough', 'five', 'nothing', 'can', 'is', 'eleven', 'have', 'nor', 'over', 'of', 'or', 'few', 'sometimes', 'hers', 'everything', 'your', 'get', 'make', 'most', 'well', 'front', 'thereafter', 'formerly', 'himself', 'others', 'yet', 'out', 'it', 'see', 'none', 'meanwhile', 'therefore', 'then', 'thereupon', 'whole', 'nevertheless', 'one', 'across', 'per', 'as', 'last', 'top', 'whoever', 'here', 'anywhere', 'do', 'until', 'namely', 'with', 'herself', 'often', 'least', 'third', 'much', 'on', 'forty', 'everywhere', 'several', 'throughout', 'those', 'however', 'anyway', 'twelve', 'at', 'so', 'all', 'anything', 'anyhow', 'why', 'them', 'against', 'in', 'using', '’m', 'around', 'some', 'was', 'another', 'this', 'bottom', 'without', 'become', 'four', 'name', '’ll', 'amount', '‘ll', 'eight', 'seemed', 'n‘t', 'has', 'noone', 'unless', 'ca', 'say', 'same', 'among', 'wherein', 'beforehand', 'to', 'hundred', \"n't\", 'whereby', \"'re\", 'latter', 'upon', 'herein', 'did', 'part', 'yours', 'alone', 'former', 'myself', 'always', 'seeming', 'beside', 'the', 'before', 'call', 'toward', 'empty', 'thus', 'done', 'hence', 'would', 'whenever', 'hereby', 'hereupon', 'whatever'}\n"
     ]
    }
   ],
   "source": [
    "print(nlp.Defaults.stop_words)"
   ]
  },
  {
   "cell_type": "code",
   "execution_count": 66,
   "metadata": {},
   "outputs": [],
   "source": [
    "# Removing negative sentiment words this being a sentiment classification\n",
    "\n",
    "nlp.Defaults.stop_words -= {'cannot', 'never','no','not'}"
   ]
  },
  {
   "cell_type": "code",
   "execution_count": 67,
   "metadata": {},
   "outputs": [],
   "source": [
    "# Adding some common words that may not be relevent to sentiment\n",
    "\n",
    "nlp.Defaults.stop_words |= {'airline','airlines','america','american','aa'}"
   ]
  },
  {
   "cell_type": "code",
   "execution_count": 68,
   "metadata": {},
   "outputs": [],
   "source": [
    "# text for function testing\n",
    "\n",
    "txt = \"\"\"<div>\n",
    "<h1>Title</h1>\n",
    "<p>A long text........ </p>\n",
    "<a href=\"\"> a link </a>\n",
    "</div>.\n",
    "I stay in 2525 Glen st. I use $15.99 daily.\n",
    "The show was nice! @ABC @HBO123 @145 @sky_fly at 7:45 PM. What do you think? #greatshow\n",
    "so come and enjoy tomorrow.\n",
    "A letter has been written, asking him to be released.\n",
    "I do not recommend him for the next project.\n",
    "I can't take it any more.\n",
    ".קום (the .COM equivalent in Hebrew)\n",
    "❤️👍👌 :-):):-D:D:-(:(:-C:C:-D\n",
    "http://abcde.com go to this.\n",
    "Or Go to https://xyzasdf/bcg.org\n",
    "I am getting five dollar from him.\n",
    "I need to go to Paris in American Airlines from there I will catch Delta airline.\n",
    "\"\"\""
   ]
  },
  {
   "cell_type": "code",
   "execution_count": 69,
   "metadata": {},
   "outputs": [
    {
     "name": "stdout",
     "output_type": "stream",
     "text": [
      "<div>\n",
      "<h1>Title</h1>\n",
      "<p>A long text........ </p>\n",
      "<a href=\"\"> a link </a>\n",
      "</div>.\n",
      "I stay in 2525 Glen st. I use $15.99 daily.\n",
      "The show was nice! @ABC @HBO123 @145 @sky_fly at 7:45 PM. What do you think? #greatshow\n",
      "so come and enjoy tomorrow.\n",
      "A letter has been written, asking him to be released.\n",
      "I do not recommend him for the next project.\n",
      "I can't take it any more.\n",
      ".קום (the .COM equivalent in Hebrew)\n",
      ":red_heart_selector::thumbs_up::OK_hand:  happy_face  happy_face  happy_face  happy_face  sad_face  sad_face  sad_face  sad_face  happy_face \n",
      "http://abcde.com go to this.\n",
      "Or Go to https://xyzasdf/bcg.org\n",
      "I am getting five dollar from him.\n",
      "I need to go to Paris in American Airlines from there I will catch Delta airline.\n",
      "\n"
     ]
    }
   ],
   "source": [
    "# Capture Emoji Sentiments\n",
    "\n",
    "def capture_emoji(text):\n",
    "    \"\"\"Converts emojis to text and capture the emoji sentiment.\n",
    "    Input: Text, return text\"\"\"\n",
    "    \n",
    "    pattern_happy = r'(:-\\)|:\\)|:-D|:D)'\n",
    "    pattern_sad = r'(:-\\(|:\\(|:-C|:C)'\n",
    "    \n",
    "    text = re.sub(pattern_happy, ' happy_face ', text)\n",
    "    text = re.sub(pattern_sad, ' sad_face ', text)\n",
    "    \n",
    "    text= emoji.demojize(text)\n",
    "    \n",
    "    \n",
    "    return text\n",
    "\n",
    "\n",
    "# Test Function\n",
    "\n",
    "txt = capture_emoji(txt)\n",
    "\n",
    "print(txt)"
   ]
  },
  {
   "cell_type": "code",
   "execution_count": 70,
   "metadata": {},
   "outputs": [
    {
     "name": "stdout",
     "output_type": "stream",
     "text": [
      "\n",
      "Title\n",
      "A long text........ \n",
      " a link \n",
      ".\n",
      "I stay in 2525 Glen st. I use $15.99 daily.\n",
      "The show was nice! @ABC @HBO123 @145 @sky_fly at 7:45 PM. What do you think? #greatshow\n",
      "so come and enjoy tomorrow.\n",
      "A letter has been written, asking him to be released.\n",
      "I do not recommend him for the next project.\n",
      "I can't take it any more.\n",
      ".קום (the .COM equivalent in Hebrew)\n",
      ":red_heart_selector::thumbs_up::OK_hand:  happy_face  happy_face  happy_face  happy_face  sad_face  sad_face  sad_face  sad_face  happy_face \n",
      "http://abcde.com go to this.\n",
      "Or Go to https://xyzasdf/bcg.org\n",
      "I am getting five dollar from him.\n",
      "I need to go to Paris in American Airlines from there I will catch Delta airline.\n",
      "\n"
     ]
    }
   ],
   "source": [
    "# HTML Tag removal\n",
    "\n",
    "def remove_html_tag(text):\n",
    "    \"\"\"Remove HTML tags from text.\n",
    "    Input: Text, Retun: Text\"\"\"\n",
    "    bs = BeautifulSoup(text, \"html.parser\")\n",
    "    text = bs.get_text()\n",
    "    return text\n",
    "\n",
    "\n",
    "# test function\n",
    "\n",
    "txt = remove_html_tag(txt)\n",
    "\n",
    "print(txt)"
   ]
  },
  {
   "cell_type": "code",
   "execution_count": 71,
   "metadata": {},
   "outputs": [
    {
     "name": "stdout",
     "output_type": "stream",
     "text": [
      "\n",
      "Title\n",
      "A long text........ \n",
      " a link \n",
      ".\n",
      "I stay in 2525 Glen st. I use $15.99 daily.\n",
      "The show was nice! @ABC @HBO123 @145 @sky_fly at 7:45 PM. What do you think? #greatshow\n",
      "so come and enjoy tomorrow.\n",
      "A letter has been written, asking him to be released.\n",
      "I do not recommend him for the next project.\n",
      "I can't take it any more.\n",
      ".קום (the .COM equivalent in Hebrew)\n",
      ":red_heart_selector::thumbs_up::OK_hand:  happy_face  happy_face  happy_face  happy_face  sad_face  sad_face  sad_face  sad_face  happy_face \n",
      "  go to this.\n",
      "Or Go to  \n",
      "I am getting five dollar from him.\n",
      "I need to go to Paris in American Airlines from there I will catch Delta airline.\n",
      "\n"
     ]
    }
   ],
   "source": [
    "# Remove URLs as that doesn't carry any sentiment\n",
    "\n",
    "def remove_url(text):\n",
    "    \"\"\"Regex \\w+:\\/\\/\\S+ matches all the URLs starting with http:// or https:// and replacing it with space.\"\"\"\n",
    "    \n",
    "    pattern = r'(\\w+:\\/\\/\\S+)'\n",
    "    text = re.sub(pattern, ' ', text)\n",
    "    return text\n",
    "\n",
    "# test funtion\n",
    "\n",
    "txt = remove_url(txt)\n",
    "\n",
    "print(txt)\n",
    "    "
   ]
  },
  {
   "cell_type": "code",
   "execution_count": 72,
   "metadata": {},
   "outputs": [
    {
     "name": "stdout",
     "output_type": "stream",
     "text": [
      "\n",
      "Title\n",
      "A long text........ \n",
      " a link \n",
      ".\n",
      "I stay in 2525 Glen st. I use $15.99 daily.\n",
      "The show was nice! @ABC @HBO123 @145 @sky_fly at 7:45 PM. What do you think? #greatshow\n",
      "so come and enjoy tomorrow.\n",
      "A letter has been written, asking him to be released.\n",
      "I do not recommend him for the next project.\n",
      "I can not take it any more.\n",
      ".קום (the .COM equivalent in Hebrew)\n",
      ":red_heart_selector::thumbs_up::OK_hand:  happy_face  happy_face  happy_face  happy_face  sad_face  sad_face  sad_face  sad_face  happy_face \n",
      "  go to this.\n",
      "Or Go to  \n",
      "I am getting five dollar from him.\n",
      "I need to go to Paris in American Airlines from there I will catch Delta airline.\n",
      "\n"
     ]
    }
   ],
   "source": [
    "# Replace contractions in string of text\n",
    "\n",
    "def replace_contractions(text):\n",
    "    \"\"\"Replace contractions in string of text.\n",
    "    Input: Text, Return: Text\"\"\"\n",
    "    text = contractions.fix(text)\n",
    "    return text\n",
    "\n",
    "# Test Function\n",
    "\n",
    "txt = replace_contractions(txt)\n",
    "\n",
    "print(txt)"
   ]
  },
  {
   "cell_type": "code",
   "execution_count": 73,
   "metadata": {},
   "outputs": [
    {
     "name": "stdout",
     "output_type": "stream",
     "text": [
      "\n",
      "Title\n",
      "A long text........ \n",
      " a link \n",
      ".\n",
      "I stay in 2525 Glen st. I use $15.99 daily.\n",
      "The show was nice!         at 7:45 PM. What do you think? #greatshow\n",
      "so come and enjoy tomorrow.\n",
      "A letter has been written, asking him to be released.\n",
      "I do not recommend him for the next project.\n",
      "I can not take it any more.\n",
      ".קום (the .COM equivalent in Hebrew)\n",
      ":red_heart_selector::thumbs_up::OK_hand:  happy_face  happy_face  happy_face  happy_face  sad_face  sad_face  sad_face  sad_face  happy_face \n",
      "  go to this.\n",
      "Or Go to  \n",
      "I am getting five dollar from him.\n",
      "I need to go to Paris in American Airlines from there I will catch Delta airline.\n",
      "\n"
     ]
    }
   ],
   "source": [
    "# Remove Twiteer handle\n",
    "# Twitter handles being very common in tweet data, but it doesn't carry any sentiment\n",
    "\n",
    "def remove_twitter_handle(text):\n",
    "    \"\"\"Function to remove Twitter handle.\n",
    "     Input: Text, Retun: Text\"\"\"\n",
    "    \n",
    "    pattern = r'(@\\w+\\b)'\n",
    "    text = re.sub(pattern, ' ', text)\n",
    "    return text\n",
    "\n",
    "# test funtion\n",
    "\n",
    "txt = remove_twitter_handle(txt)\n",
    "\n",
    "print(txt)"
   ]
  },
  {
   "cell_type": "code",
   "execution_count": 74,
   "metadata": {},
   "outputs": [
    {
     "name": "stdout",
     "output_type": "stream",
     "text": [
      "\n",
      "Title\n",
      "A long text........ \n",
      " a link \n",
      ".\n",
      "I stay in  Glen st. I use $ daily.\n",
      "The show was nice!         at : PM. What do you think? #greatshow\n",
      "so come and enjoy tomorrow.\n",
      "A letter has been written, asking him to be released.\n",
      "I do not recommend him for the next project.\n",
      "I can not take it any more.\n",
      ".קום (the .COM equivalent in Hebrew)\n",
      ":red_heart_selector::thumbs_up::OK_hand:  happy_face  happy_face  happy_face  happy_face  sad_face  sad_face  sad_face  sad_face  happy_face \n",
      "  go to this.\n",
      "Or Go to  \n",
      "I am getting five dollar from him.\n",
      "I need to go to Paris in American Airlines from there I will catch Delta airline.\n",
      "\n"
     ]
    }
   ],
   "source": [
    "# remove numbers\n",
    "\n",
    "def remove_numbers(text):\n",
    "    \"\"\"Funtion to remove numbers and digits.\n",
    "    Input: Text, Retun: Text\"\"\"\n",
    "    \n",
    "    pattern = r'(\\d*\\.{1}\\d+|\\d+)'\n",
    "    text = re.sub(pattern, '', text)\n",
    "    return text\n",
    "\n",
    "# test funtion\n",
    "\n",
    "txt = remove_numbers(txt)\n",
    "\n",
    "print(txt)"
   ]
  },
  {
   "cell_type": "code",
   "execution_count": 75,
   "metadata": {},
   "outputs": [
    {
     "name": "stdout",
     "output_type": "stream",
     "text": [
      " Title A long text a link I stay in Glen st I use daily The show was nice at PM What do you think greatshow so come and enjoy tomorrow A letter has been written asking him to be released I do not recommend him for the next project I can not take it any more the COM equivalent in Hebrew red_heart_selector thumbs_up OK_hand happy_face happy_face happy_face happy_face sad_face sad_face sad_face sad_face happy_face go to this Or Go to I am getting five dollar from him I need to go to Paris in American Airlines from there I will catch Delta airline \n"
     ]
    }
   ],
   "source": [
    "#remove new line, special characters and Punctuations\n",
    "\n",
    "def remove_newline_special_characters(text):\n",
    "    \"\"\"Removes newline characters special characters and punctuations.\n",
    "    Input: Text, Retun: Text\"\"\"\n",
    "    \n",
    "    newline = r'\\n'\n",
    "    pattern = r'[^a-zA-z0-9\\s]'\n",
    "    text = re.sub(newline, ' ', text)  # remove newline\n",
    "    text = re.sub(pattern, ' ', text)   # remove special character leaving alpha numeric and spaces\n",
    "    text = re.sub(r'\\s+', ' ', text)   # replace multiple space with a single space\n",
    "    return text\n",
    "\n",
    "# test funtion\n",
    "\n",
    "txt = remove_newline_special_characters(txt)\n",
    "\n",
    "print(txt)"
   ]
  },
  {
   "cell_type": "code",
   "execution_count": 76,
   "metadata": {},
   "outputs": [
    {
     "name": "stdout",
     "output_type": "stream",
     "text": [
      "title a long text a link i stay in glen st i use daily the show was nice at pm what do you think greatshow so come and enjoy tomorrow a letter has been written asking him to be released i do not recommend him for the next project i can not take it any more the com equivalent in hebrew red_heart_selector thumbs_up ok_hand happy_face happy_face happy_face happy_face sad_face sad_face sad_face sad_face happy_face go to this or go to i am getting five dollar from him i need to go to paris in american airlines from there i will catch delta airline\n"
     ]
    }
   ],
   "source": [
    "# Conversion to lowercase\n",
    "\n",
    "def convert_lower(text):\n",
    "    \"\"\"Converts text to lower case.\n",
    "    Input: Text, Retun: Text\"\"\"\n",
    "    \n",
    "    text = text.lower().strip()   # converts to lower case and removes and leading or trailing spaces\n",
    "    \n",
    "    return text\n",
    "\n",
    "# test funtion\n",
    "\n",
    "txt = convert_lower(txt)\n",
    "\n",
    "print(txt)"
   ]
  },
  {
   "cell_type": "code",
   "execution_count": 77,
   "metadata": {},
   "outputs": [
    {
     "name": "stdout",
     "output_type": "stream",
     "text": [
      "['title', 'long', 'text', 'link', 'stay', 'glen', 'st', 'use', 'daily', 'nice', 'pm', 'think', 'greatshow', 'come', 'enjoy', 'tomorrow', 'letter', 'write', 'ask', 'release', 'not', 'recommend', 'project', 'not', 'com', 'equivalent', 'hebrew', 'red_heart_selector', 'thumbs_up', 'ok_hand', 'happy_face', 'sad_face', 'sad_face', 'sad_face', 'sad_face', 'happy_face', 'get', 'dollar', 'need', 'paris', 'catch', 'delta']\n"
     ]
    }
   ],
   "source": [
    "# Tokenization and Lemmatization and remove stop words\n",
    "\n",
    "def tokenize_lemmatize_remove_stopwords(text):\n",
    "    \"\"\"Performs Tokenization and Lemmatization and removing stop words using Spacy\n",
    "    Input: Text, Retun: list of words\"\"\"\n",
    "    \n",
    "    token_list = []                  # for appending the words back to list\n",
    "    pos_tag_list = ['DET','PRON','PROPN', 'NUM']    # List for filtering out determiner, pronoun, propernoun, numbers in text\n",
    "    spacy_text = nlp(text)\n",
    "    for token in spacy_text:\n",
    "        if token.is_stop == False and token.pos_ not in pos_tag_list:   # Operates only on Non Stop Words & Filters Pos Tags\n",
    "            txt = token.lemma_           # Lemmatization\n",
    "            token_list.append(txt)\n",
    "    \n",
    "    return token_list\n",
    "\n",
    "\n",
    "# test funtion\n",
    "\n",
    "txt = tokenize_lemmatize_remove_stopwords(txt)\n",
    "\n",
    "print(txt)"
   ]
  },
  {
   "cell_type": "code",
   "execution_count": 78,
   "metadata": {},
   "outputs": [
    {
     "name": "stdout",
     "output_type": "stream",
     "text": [
      "title long text link stay glen st use daily nice pm think greatshow come enjoy tomorrow letter write ask release not recommend project not com equivalent hebrew red_heart_selector thumbs_up ok_hand happy_face sad_face sad_face sad_face sad_face happy_face get dollar need paris catch delta\n"
     ]
    }
   ],
   "source": [
    "# Joining words back to string\n",
    "\n",
    "def join_words(word_list):\n",
    "    \"\"\"Takes list of words as input and joins them back to form sentence\n",
    "    Input: List. Output: Text\"\"\"\n",
    "    \n",
    "    text = ' '.join(word_list)\n",
    "        \n",
    "    return text\n",
    "\n",
    "# test funtion\n",
    "\n",
    "txt = join_words(txt)\n",
    "\n",
    "print(txt)"
   ]
  },
  {
   "cell_type": "code",
   "execution_count": 79,
   "metadata": {},
   "outputs": [
    {
     "name": "stdout",
     "output_type": "stream",
     "text": [
      "title long text link stay glen st use daily nice pm think greatshow come enjoy tomorrow letter write ask release not recommend project not com equivalent hebrew red_heart_selector thumbs_up ok_hand happy_face sad_face sad_face sad_face sad_face happy_face dollar need paris catch delta\n"
     ]
    }
   ],
   "source": [
    "# main fuction for pre processing\n",
    "\n",
    "def pre_process(text):\n",
    "    \"\"\"Main preprocessing function that calls all individual preprocessing functions.\n",
    "    Input: List, Output: text\"\"\"\n",
    "    \n",
    "    text = capture_emoji(text)\n",
    "    text = remove_html_tag(text)\n",
    "    text = remove_url(text)\n",
    "    text = replace_contractions(text)\n",
    "    text = remove_twitter_handle(text)\n",
    "    text = remove_numbers(text)\n",
    "    text = remove_newline_special_characters(text)\n",
    "    text = convert_lower(text)\n",
    "    text = tokenize_lemmatize_remove_stopwords(text)\n",
    "    text = join_words(text)\n",
    "    \n",
    "    return text\n",
    "\n",
    "\n",
    "\n",
    "# test funtion\n",
    "\n",
    "txt = pre_process(txt)\n",
    "\n",
    "print(txt)"
   ]
  },
  {
   "cell_type": "code",
   "execution_count": 81,
   "metadata": {},
   "outputs": [],
   "source": [
    "#tweet.drop('clean_text', axis=1, inplace=True)"
   ]
  },
  {
   "cell_type": "code",
   "execution_count": 82,
   "metadata": {},
   "outputs": [],
   "source": [
    "# Apply all pre processing steps to entire DataFrame and store clean data in another column\n",
    "\n",
    "tweet['clean_text'] = tweet.apply(lambda row: pre_process(row['text']), axis=1)"
   ]
  },
  {
   "cell_type": "code",
   "execution_count": 83,
   "metadata": {},
   "outputs": [],
   "source": [
    "# Encode Sentiments to numeric value\n",
    "\n",
    "def encode_sentiment(text):\n",
    "    \"\"\"Take text sentiment values and returns numeric encoding\n",
    "    1: positive\n",
    "    0: neutral\n",
    "    -1: negative\n",
    "    Input: Text, Outpur: Int\"\"\"\n",
    "    \n",
    "    v_code = -999\n",
    "    \n",
    "    if text == 'neutral':\n",
    "        v_code = 0\n",
    "    elif text == 'positive':\n",
    "        v_code = 1\n",
    "    elif text == 'negative':\n",
    "        v_code = -1\n",
    "    else: \n",
    "        v_code = -999\n",
    "    \n",
    "    return v_code\n",
    "\n",
    "\n",
    "tweet['sentiment_code'] = tweet.apply(lambda row: encode_sentiment(row['airline_sentiment']), axis=1)"
   ]
  },
  {
   "cell_type": "code",
   "execution_count": 84,
   "metadata": {},
   "outputs": [
    {
     "data": {
      "text/html": [
       "<div>\n",
       "<style scoped>\n",
       "    .dataframe tbody tr th:only-of-type {\n",
       "        vertical-align: middle;\n",
       "    }\n",
       "\n",
       "    .dataframe tbody tr th {\n",
       "        vertical-align: top;\n",
       "    }\n",
       "\n",
       "    .dataframe thead th {\n",
       "        text-align: right;\n",
       "    }\n",
       "</style>\n",
       "<table border=\"1\" class=\"dataframe\">\n",
       "  <thead>\n",
       "    <tr style=\"text-align: right;\">\n",
       "      <th></th>\n",
       "      <th>airline_sentiment</th>\n",
       "      <th>text</th>\n",
       "      <th>clean_text</th>\n",
       "      <th>sentiment_code</th>\n",
       "    </tr>\n",
       "  </thead>\n",
       "  <tbody>\n",
       "    <tr>\n",
       "      <th>0</th>\n",
       "      <td>neutral</td>\n",
       "      <td>@VirginAmerica What @dhepburn said.</td>\n",
       "      <td>say</td>\n",
       "      <td>0</td>\n",
       "    </tr>\n",
       "    <tr>\n",
       "      <th>1</th>\n",
       "      <td>positive</td>\n",
       "      <td>@VirginAmerica plus you've added commercials t...</td>\n",
       "      <td>plus add commercial experience tacky</td>\n",
       "      <td>1</td>\n",
       "    </tr>\n",
       "    <tr>\n",
       "      <th>2</th>\n",
       "      <td>neutral</td>\n",
       "      <td>@VirginAmerica I didn't today... Must mean I n...</td>\n",
       "      <td>not today mean need trip</td>\n",
       "      <td>0</td>\n",
       "    </tr>\n",
       "    <tr>\n",
       "      <th>3</th>\n",
       "      <td>negative</td>\n",
       "      <td>@VirginAmerica it's really aggressive to blast...</td>\n",
       "      <td>aggressive blast obnoxious entertainment guest...</td>\n",
       "      <td>-1</td>\n",
       "    </tr>\n",
       "    <tr>\n",
       "      <th>4</th>\n",
       "      <td>negative</td>\n",
       "      <td>@VirginAmerica and it's a really big bad thing...</td>\n",
       "      <td>big bad thing</td>\n",
       "      <td>-1</td>\n",
       "    </tr>\n",
       "    <tr>\n",
       "      <th>5</th>\n",
       "      <td>negative</td>\n",
       "      <td>@VirginAmerica seriously would pay $30 a fligh...</td>\n",
       "      <td>seriously pay flight seat not playing bad thin...</td>\n",
       "      <td>-1</td>\n",
       "    </tr>\n",
       "    <tr>\n",
       "      <th>6</th>\n",
       "      <td>positive</td>\n",
       "      <td>@VirginAmerica yes, nearly every time I fly VX...</td>\n",
       "      <td>yes nearly time fly vx ear worm not away happy...</td>\n",
       "      <td>1</td>\n",
       "    </tr>\n",
       "    <tr>\n",
       "      <th>7</th>\n",
       "      <td>neutral</td>\n",
       "      <td>@VirginAmerica Really missed a prime opportuni...</td>\n",
       "      <td>miss prime opportunity man hat parody</td>\n",
       "      <td>0</td>\n",
       "    </tr>\n",
       "    <tr>\n",
       "      <th>8</th>\n",
       "      <td>positive</td>\n",
       "      <td>@virginamerica Well, I didn't…but NOW I DO! :-D</td>\n",
       "      <td>not happy_face</td>\n",
       "      <td>1</td>\n",
       "    </tr>\n",
       "    <tr>\n",
       "      <th>9</th>\n",
       "      <td>positive</td>\n",
       "      <td>@VirginAmerica it was amazing, and arrived an ...</td>\n",
       "      <td>amazing arrive hour early good</td>\n",
       "      <td>1</td>\n",
       "    </tr>\n",
       "    <tr>\n",
       "      <th>10</th>\n",
       "      <td>neutral</td>\n",
       "      <td>@VirginAmerica did you know that suicide is th...</td>\n",
       "      <td>know suicide second leading death teen</td>\n",
       "      <td>0</td>\n",
       "    </tr>\n",
       "    <tr>\n",
       "      <th>11</th>\n",
       "      <td>positive</td>\n",
       "      <td>@VirginAmerica I &amp;lt;3 pretty graphics. so muc...</td>\n",
       "      <td>pretty graphic well minimal iconography happy_...</td>\n",
       "      <td>1</td>\n",
       "    </tr>\n",
       "    <tr>\n",
       "      <th>12</th>\n",
       "      <td>positive</td>\n",
       "      <td>@VirginAmerica This is such a great deal! Alre...</td>\n",
       "      <td>great deal think nd trip not go st trip p</td>\n",
       "      <td>1</td>\n",
       "    </tr>\n",
       "    <tr>\n",
       "      <th>13</th>\n",
       "      <td>positive</td>\n",
       "      <td>@VirginAmerica @virginmedia I'm flying your #f...</td>\n",
       "      <td>fly fabulous seductive sky stress away travel</td>\n",
       "      <td>1</td>\n",
       "    </tr>\n",
       "    <tr>\n",
       "      <th>14</th>\n",
       "      <td>positive</td>\n",
       "      <td>@VirginAmerica Thanks!</td>\n",
       "      <td>thank</td>\n",
       "      <td>1</td>\n",
       "    </tr>\n",
       "    <tr>\n",
       "      <th>15</th>\n",
       "      <td>negative</td>\n",
       "      <td>@VirginAmerica SFO-PDX schedule is still MIA.</td>\n",
       "      <td>sfo pdx schedule mia</td>\n",
       "      <td>-1</td>\n",
       "    </tr>\n",
       "    <tr>\n",
       "      <th>16</th>\n",
       "      <td>positive</td>\n",
       "      <td>@VirginAmerica So excited for my first cross c...</td>\n",
       "      <td>excited cross country flight lax mco hear grea...</td>\n",
       "      <td>1</td>\n",
       "    </tr>\n",
       "    <tr>\n",
       "      <th>17</th>\n",
       "      <td>negative</td>\n",
       "      <td>@VirginAmerica  I flew from NYC to SFO last we...</td>\n",
       "      <td>fly nyc sfo week not fully sit seat large gent...</td>\n",
       "      <td>-1</td>\n",
       "    </tr>\n",
       "    <tr>\n",
       "      <th>18</th>\n",
       "      <td>positive</td>\n",
       "      <td>I ❤️ flying @VirginAmerica. ☺️👍</td>\n",
       "      <td>red_heart_selector fly</td>\n",
       "      <td>1</td>\n",
       "    </tr>\n",
       "    <tr>\n",
       "      <th>19</th>\n",
       "      <td>positive</td>\n",
       "      <td>@VirginAmerica you know what would be amazingl...</td>\n",
       "      <td>know amazingly awesome bo fll want fly</td>\n",
       "      <td>1</td>\n",
       "    </tr>\n",
       "    <tr>\n",
       "      <th>20</th>\n",
       "      <td>negative</td>\n",
       "      <td>@VirginAmerica why are your first fares in May...</td>\n",
       "      <td>fare time carrier seat available select</td>\n",
       "      <td>-1</td>\n",
       "    </tr>\n",
       "    <tr>\n",
       "      <th>21</th>\n",
       "      <td>positive</td>\n",
       "      <td>@VirginAmerica I love this graphic. http://t.c...</td>\n",
       "      <td>love graphic</td>\n",
       "      <td>1</td>\n",
       "    </tr>\n",
       "    <tr>\n",
       "      <th>22</th>\n",
       "      <td>positive</td>\n",
       "      <td>@VirginAmerica I love the hipster innovation. ...</td>\n",
       "      <td>love hipst innovation feel good brand</td>\n",
       "      <td>1</td>\n",
       "    </tr>\n",
       "    <tr>\n",
       "      <th>23</th>\n",
       "      <td>neutral</td>\n",
       "      <td>@VirginAmerica will you be making BOS&amp;gt;LAS n...</td>\n",
       "      <td>make las non stop permanently anytime soon</td>\n",
       "      <td>0</td>\n",
       "    </tr>\n",
       "    <tr>\n",
       "      <th>24</th>\n",
       "      <td>negative</td>\n",
       "      <td>@VirginAmerica you guys messed up my seating.....</td>\n",
       "      <td>guy mess seating reserve seating friend guy gi...</td>\n",
       "      <td>-1</td>\n",
       "    </tr>\n",
       "  </tbody>\n",
       "</table>\n",
       "</div>"
      ],
      "text/plain": [
       "   airline_sentiment                                               text  \\\n",
       "0            neutral                @VirginAmerica What @dhepburn said.   \n",
       "1           positive  @VirginAmerica plus you've added commercials t...   \n",
       "2            neutral  @VirginAmerica I didn't today... Must mean I n...   \n",
       "3           negative  @VirginAmerica it's really aggressive to blast...   \n",
       "4           negative  @VirginAmerica and it's a really big bad thing...   \n",
       "5           negative  @VirginAmerica seriously would pay $30 a fligh...   \n",
       "6           positive  @VirginAmerica yes, nearly every time I fly VX...   \n",
       "7            neutral  @VirginAmerica Really missed a prime opportuni...   \n",
       "8           positive    @virginamerica Well, I didn't…but NOW I DO! :-D   \n",
       "9           positive  @VirginAmerica it was amazing, and arrived an ...   \n",
       "10           neutral  @VirginAmerica did you know that suicide is th...   \n",
       "11          positive  @VirginAmerica I &lt;3 pretty graphics. so muc...   \n",
       "12          positive  @VirginAmerica This is such a great deal! Alre...   \n",
       "13          positive  @VirginAmerica @virginmedia I'm flying your #f...   \n",
       "14          positive                             @VirginAmerica Thanks!   \n",
       "15          negative      @VirginAmerica SFO-PDX schedule is still MIA.   \n",
       "16          positive  @VirginAmerica So excited for my first cross c...   \n",
       "17          negative  @VirginAmerica  I flew from NYC to SFO last we...   \n",
       "18          positive                    I ❤️ flying @VirginAmerica. ☺️👍   \n",
       "19          positive  @VirginAmerica you know what would be amazingl...   \n",
       "20          negative  @VirginAmerica why are your first fares in May...   \n",
       "21          positive  @VirginAmerica I love this graphic. http://t.c...   \n",
       "22          positive  @VirginAmerica I love the hipster innovation. ...   \n",
       "23           neutral  @VirginAmerica will you be making BOS&gt;LAS n...   \n",
       "24          negative  @VirginAmerica you guys messed up my seating.....   \n",
       "\n",
       "                                           clean_text  sentiment_code  \n",
       "0                                                 say               0  \n",
       "1                plus add commercial experience tacky               1  \n",
       "2                            not today mean need trip               0  \n",
       "3   aggressive blast obnoxious entertainment guest...              -1  \n",
       "4                                       big bad thing              -1  \n",
       "5   seriously pay flight seat not playing bad thin...              -1  \n",
       "6   yes nearly time fly vx ear worm not away happy...               1  \n",
       "7               miss prime opportunity man hat parody               0  \n",
       "8                                      not happy_face               1  \n",
       "9                      amazing arrive hour early good               1  \n",
       "10             know suicide second leading death teen               0  \n",
       "11  pretty graphic well minimal iconography happy_...               1  \n",
       "12          great deal think nd trip not go st trip p               1  \n",
       "13      fly fabulous seductive sky stress away travel               1  \n",
       "14                                              thank               1  \n",
       "15                               sfo pdx schedule mia              -1  \n",
       "16  excited cross country flight lax mco hear grea...               1  \n",
       "17  fly nyc sfo week not fully sit seat large gent...              -1  \n",
       "18                             red_heart_selector fly               1  \n",
       "19             know amazingly awesome bo fll want fly               1  \n",
       "20            fare time carrier seat available select              -1  \n",
       "21                                       love graphic               1  \n",
       "22              love hipst innovation feel good brand               1  \n",
       "23         make las non stop permanently anytime soon               0  \n",
       "24  guy mess seating reserve seating friend guy gi...              -1  "
      ]
     },
     "execution_count": 84,
     "metadata": {},
     "output_type": "execute_result"
    }
   ],
   "source": [
    "# Print first 25 rows\n",
    "\n",
    "tweet.head(25)"
   ]
  },
  {
   "cell_type": "code",
   "execution_count": 85,
   "metadata": {},
   "outputs": [
    {
     "name": "stdout",
     "output_type": "stream",
     "text": [
      "0                                                                                            say\n",
      "1                                                           plus add commercial experience tacky\n",
      "2                                                                       not today mean need trip\n",
      "3                            aggressive blast obnoxious entertainment guest face little recourse\n",
      "4                                                                                  big bad thing\n",
      "5                                            seriously pay flight seat not playing bad thing fly\n",
      "6                                            yes nearly time fly vx ear worm not away happy_face\n",
      "7                                                          miss prime opportunity man hat parody\n",
      "8                                                                                 not happy_face\n",
      "9                                                                 amazing arrive hour early good\n",
      "10                                                        know suicide second leading death teen\n",
      "11                                            pretty graphic well minimal iconography happy_face\n",
      "12                                                     great deal think nd trip not go st trip p\n",
      "13                                                 fly fabulous seductive sky stress away travel\n",
      "14                                                                                         thank\n",
      "15                                                                          sfo pdx schedule mia\n",
      "16                         excited cross country flight lax mco hear great thing virgin daystogo\n",
      "17                                      fly nyc sfo week not fully sit seat large gentleman help\n",
      "18                                                                        red_heart_selector fly\n",
      "19                                                        know amazingly awesome bo fll want fly\n",
      "20                                                       fare time carrier seat available select\n",
      "21                                                                                  love graphic\n",
      "22                                                         love hipst innovation feel good brand\n",
      "23                                                    make las non stop permanently anytime soon\n",
      "24    guy mess seating reserve seating friend guy give seat away pouting_face want free internet\n",
      "Name: clean_text, dtype: object\n",
      "\n",
      "\n",
      "\n",
      "14615                                        ugh dump dfw w luggage cancel flight flight time sit arrival tue\n",
      "14616                               cancel flight flight not send email text put way early flight miss thanks\n",
      "14617                                                                                           dme big thank\n",
      "14618                                                   overweight pull dozen passenger not luggage seriously\n",
      "14619                                          love company staff amazing uncomfortable situation comfortable\n",
      "14620                                                  wait cs flt cxld protection hang minute answer st ring\n",
      "14621                                    hold min cancel flighted international flight country not leave help\n",
      "14622                                                                 need place sleep land accommodation pls\n",
      "14623                                          love new plane jfk lax run maybe day amenity function nocharge\n",
      "14624                                                                         chairman emerald today customer\n",
      "14625                                                  flight great fantastic cabin crew landing thankyou jfk\n",
      "14626                                                  flight nyc buenos aire delay yesterday pm go pm answer\n",
      "14627                                       flight cancel flightle not home tomorrow use dinner play time nyc\n",
      "14628                                                 thank customer relation review concern contact directly\n",
      "14629                                                change flight phone system keep tell representative busy\n",
      "14630                                                                                                   thank\n",
      "14631                                                                       thx get country broken plane come\n",
      "14632                                                   george not look good follow link start refund process\n",
      "14633    flight cancel flightle leaving tomorrow morning auto rebooke tuesday night flight need arrive monday\n",
      "14634                                                                                 right cue delay ok_hand\n",
      "14635                                                                      thank get different flight chicago\n",
      "14636              leave minute late flight warning communication minute late flight call shitty customer svc\n",
      "14637                                                                                        bring blackberry\n",
      "14638                                              money change flight not answer phone suggestion commitment\n",
      "14639                                                     ppl need know seat flight plz standby people flight\n",
      "Name: clean_text, dtype: object\n"
     ]
    }
   ],
   "source": [
    "# Visualize text data for better understanding\n",
    "\n",
    "pd.set_option(\"display.max_colwidth\",110)\n",
    "\n",
    "print(tweet['clean_text'].head(25))\n",
    "print('')\n",
    "print('')\n",
    "print('')\n",
    "print(tweet['clean_text'].tail(25))\n",
    "\n",
    "pd.set_option(\"display.max_colwidth\",50)"
   ]
  },
  {
   "cell_type": "code",
   "execution_count": 86,
   "metadata": {},
   "outputs": [
    {
     "name": "stdout",
     "output_type": "stream",
     "text": [
      "<class 'pandas.core.frame.DataFrame'>\n",
      "Int64Index: 14503 entries, 0 to 14639\n",
      "Data columns (total 4 columns):\n",
      " #   Column             Non-Null Count  Dtype \n",
      "---  ------             --------------  ----- \n",
      " 0   airline_sentiment  14503 non-null  object\n",
      " 1   text               14503 non-null  object\n",
      " 2   clean_text         14503 non-null  object\n",
      " 3   sentiment_code     14503 non-null  int64 \n",
      "dtypes: int64(1), object(3)\n",
      "memory usage: 566.5+ KB\n"
     ]
    }
   ],
   "source": [
    "tweet.info()"
   ]
  },
  {
   "cell_type": "markdown",
   "metadata": {},
   "source": [
    "### 4. Vectorization:"
   ]
  },
  {
   "cell_type": "code",
   "execution_count": 87,
   "metadata": {},
   "outputs": [
    {
     "data": {
      "text/plain": [
       "0        0\n",
       "1        1\n",
       "2        0\n",
       "3       -1\n",
       "4       -1\n",
       "        ..\n",
       "14635    1\n",
       "14636   -1\n",
       "14637    0\n",
       "14638   -1\n",
       "14639    0\n",
       "Name: sentiment_code, Length: 14503, dtype: int32"
      ]
     },
     "execution_count": 87,
     "metadata": {},
     "output_type": "execute_result"
    }
   ],
   "source": [
    "# Taking Labels out of dataframe and ensure it is int\n",
    "\n",
    "labels = tweet['sentiment_code']\n",
    "labels = labels.astype('int')\n",
    "\n",
    "labels"
   ]
  },
  {
   "cell_type": "code",
   "execution_count": 88,
   "metadata": {},
   "outputs": [
    {
     "data": {
      "text/plain": [
       "array(['say', 'plus add commercial experience tacky',\n",
       "       'not today mean need trip', ..., 'bring blackberry',\n",
       "       'money change flight not answer phone suggestion commitment',\n",
       "       'ppl need know seat flight plz standby people flight'],\n",
       "      dtype=object)"
      ]
     },
     "execution_count": 88,
     "metadata": {},
     "output_type": "execute_result"
    }
   ],
   "source": [
    "# Taking Text out of DataFrame\n",
    "\n",
    "text = np.array(tweet['clean_text'])\n",
    "\n",
    "text"
   ]
  },
  {
   "cell_type": "code",
   "execution_count": 89,
   "metadata": {},
   "outputs": [],
   "source": [
    "# Split data into training and testing set keeping ratio same\n",
    "\n",
    "X_train, X_test, y_train, y_test = train_test_split(text, labels, test_size=0.2, random_state=7,stratify=labels)"
   ]
  },
  {
   "cell_type": "code",
   "execution_count": 90,
   "metadata": {},
   "outputs": [
    {
     "data": {
      "text/plain": [
       "-1    7271\n",
       " 0    2459\n",
       " 1    1872\n",
       "Name: sentiment_code, dtype: int64"
      ]
     },
     "execution_count": 90,
     "metadata": {},
     "output_type": "execute_result"
    }
   ],
   "source": [
    "y_train.value_counts()"
   ]
  },
  {
   "cell_type": "code",
   "execution_count": 91,
   "metadata": {},
   "outputs": [
    {
     "data": {
      "text/plain": [
       "-1    1818\n",
       " 0     615\n",
       " 1     468\n",
       "Name: sentiment_code, dtype: int64"
      ]
     },
     "execution_count": 91,
     "metadata": {},
     "output_type": "execute_result"
    }
   ],
   "source": [
    "y_test.value_counts()"
   ]
  },
  {
   "cell_type": "code",
   "execution_count": 92,
   "metadata": {},
   "outputs": [
    {
     "name": "stdout",
     "output_type": "stream",
     "text": [
      "(11602,)\n",
      "(11602,)\n",
      "(2901,)\n",
      "(2901,)\n"
     ]
    }
   ],
   "source": [
    "print(X_train.shape)\n",
    "print(y_train.shape)\n",
    "print(X_test.shape)\n",
    "print(y_test.shape)"
   ]
  },
  {
   "cell_type": "code",
   "execution_count": 93,
   "metadata": {},
   "outputs": [],
   "source": [
    "# Count Vectorization \n",
    "\n",
    "vectorizer = CountVectorizer(max_features=500)           \n",
    "X_train_vec = vectorizer.fit_transform(X_train)\n",
    "\n",
    "X_test_vec = vectorizer.transform(X_test)"
   ]
  },
  {
   "cell_type": "code",
   "execution_count": 94,
   "metadata": {},
   "outputs": [
    {
     "data": {
      "text/plain": [
       "['able',\n",
       " 'access',\n",
       " 'account',\n",
       " 'actually',\n",
       " 'add',\n",
       " 'address',\n",
       " 'agent',\n",
       " 'ago',\n",
       " 'air',\n",
       " 'aircraft',\n",
       " 'airplane_selector',\n",
       " 'airport',\n",
       " 'airway',\n",
       " 'allow',\n",
       " 'amazing',\n",
       " 'answer',\n",
       " 'apology',\n",
       " 'app',\n",
       " 'appreciate',\n",
       " 'arrival',\n",
       " 'arrive',\n",
       " 'ask',\n",
       " 'assistance',\n",
       " 'atl',\n",
       " 'atlanta']"
      ]
     },
     "execution_count": 94,
     "metadata": {},
     "output_type": "execute_result"
    }
   ],
   "source": [
    "vectorizer.get_feature_names()[:25]"
   ]
  },
  {
   "cell_type": "code",
   "execution_count": 95,
   "metadata": {},
   "outputs": [
    {
     "data": {
      "text/plain": [
       "(11602, 500)"
      ]
     },
     "execution_count": 95,
     "metadata": {},
     "output_type": "execute_result"
    }
   ],
   "source": [
    "X_train_vec.shape"
   ]
  },
  {
   "cell_type": "code",
   "execution_count": 96,
   "metadata": {},
   "outputs": [],
   "source": [
    "# TfidfVectorizer\n",
    "\n",
    "vectorizer_tfidf = TfidfVectorizer(max_features=500)\n",
    "X_train_tfidf = vectorizer_tfidf.fit_transform(X_train)\n",
    "\n",
    "X_test_tfidf = vectorizer_tfidf.transform(X_test)"
   ]
  },
  {
   "cell_type": "code",
   "execution_count": 97,
   "metadata": {},
   "outputs": [
    {
     "data": {
      "text/plain": [
       "['able',\n",
       " 'access',\n",
       " 'account',\n",
       " 'actually',\n",
       " 'add',\n",
       " 'address',\n",
       " 'agent',\n",
       " 'ago',\n",
       " 'air',\n",
       " 'aircraft',\n",
       " 'airplane_selector',\n",
       " 'airport',\n",
       " 'airway',\n",
       " 'allow',\n",
       " 'amazing',\n",
       " 'answer',\n",
       " 'apology',\n",
       " 'app',\n",
       " 'appreciate',\n",
       " 'arrival',\n",
       " 'arrive',\n",
       " 'ask',\n",
       " 'assistance',\n",
       " 'atl',\n",
       " 'atlanta']"
      ]
     },
     "execution_count": 97,
     "metadata": {},
     "output_type": "execute_result"
    }
   ],
   "source": [
    "vectorizer_tfidf.get_feature_names()[:25]"
   ]
  },
  {
   "cell_type": "code",
   "execution_count": 98,
   "metadata": {},
   "outputs": [
    {
     "data": {
      "text/plain": [
       "(11602, 500)"
      ]
     },
     "execution_count": 98,
     "metadata": {},
     "output_type": "execute_result"
    }
   ],
   "source": [
    "X_train_tfidf.shape"
   ]
  },
  {
   "cell_type": "markdown",
   "metadata": {},
   "source": [
    "### 5. Model Building"
   ]
  },
  {
   "cell_type": "markdown",
   "metadata": {},
   "source": [
    "### 5.a. Conventional Machine Lerning"
   ]
  },
  {
   "cell_type": "code",
   "execution_count": 99,
   "metadata": {},
   "outputs": [],
   "source": [
    "# Build models\n",
    "\n",
    "rfcl = RandomForestClassifier(max_depth=20, random_state=7, n_jobs=-1)\n",
    "\n",
    "gbcl = GradientBoostingClassifier(learning_rate=0.01,n_estimators=250,random_state=7)\n",
    "\n",
    "kncl = KNeighborsClassifier(n_jobs=-1)\n",
    "\n",
    "nbcl = GaussianNB()\n"
   ]
  },
  {
   "cell_type": "code",
   "execution_count": 100,
   "metadata": {},
   "outputs": [],
   "source": [
    "tup_vec = (X_train_vec,y_train,X_test_vec,y_test)\n",
    "\n",
    "tup_tfidf = (X_train_tfidf,y_train,X_test_tfidf,y_test)"
   ]
  },
  {
   "cell_type": "code",
   "execution_count": 101,
   "metadata": {},
   "outputs": [
    {
     "data": {
      "text/plain": [
       "649     -1\n",
       "5933    -1\n",
       "11946   -1\n",
       "5037    -1\n",
       "12864   -1\n",
       "        ..\n",
       "2216     0\n",
       "7688    -1\n",
       "1694    -1\n",
       "6924     0\n",
       "5974    -1\n",
       "Name: sentiment_code, Length: 2901, dtype: int32"
      ]
     },
     "execution_count": 101,
     "metadata": {},
     "output_type": "execute_result"
    }
   ],
   "source": [
    "y_test"
   ]
  },
  {
   "cell_type": "code",
   "execution_count": 102,
   "metadata": {},
   "outputs": [],
   "source": [
    "# Function to fit model and evaluate model on test data\n",
    "\n",
    "def model_fit_evaluate(model, tup_data):\n",
    "    \n",
    "    X_train = tup_data[0].toarray()\n",
    "    y_train = tup_data[1]\n",
    "    X_test = tup_data[2].toarray()\n",
    "    y_test = tup_data[3]\n",
    "    \n",
    "    model.fit(X_train,y_train)  # fitting model\n",
    "    \n",
    "    print(\"Model: \", model)\n",
    "    print(\"Training data Cross Validation Score: \", np.mean(cross_val_score(model, X_train, y_train, cv=10)))\n",
    "    print(\"Test Score: \", model.score(X_test, y_test))\n",
    "    \n",
    "    y_predict = model.predict(X_test)\n",
    "    \n",
    "    # confusion matrix\n",
    "    labels = ['Negative','Neutral','Positive']\n",
    "    \n",
    "    fig, ax = plt.subplots(nrows=1,ncols=1,figsize = (10,8));\n",
    "    cm= confusion_matrix(y_test,y_predict)\n",
    "    sns.heatmap(cm ,annot=True,ax = ax,fmt='g',annot_kws={\"size\": 15});\n",
    "    ax.set_xlabel('Predicted labels',fontsize=15);\n",
    "    ax.set_ylabel('True labels',fontsize=15);\n",
    "    ax.set_title('Confusion Matrix',fontsize=15);\n",
    "    ax.xaxis.set_ticklabels(labels,fontsize=12,rotation = 45, color='blue');\n",
    "    ax.yaxis.set_ticklabels(labels,fontsize=12,rotation = 45, color='blue');\n",
    "    plt.show()\n",
    "    "
   ]
  },
  {
   "cell_type": "code",
   "execution_count": 103,
   "metadata": {},
   "outputs": [
    {
     "name": "stdout",
     "output_type": "stream",
     "text": [
      "Model:  RandomForestClassifier(max_depth=20, n_jobs=-1, random_state=7)\n",
      "Training data Cross Validation Score:  0.7103086667260685\n",
      "Test Score:  0.7094105480868665\n"
     ]
    },
    {
     "data": {
      "image/png": "[encoded data removed]",
      "text/plain": [
       "<Figure size 720x576 with 2 Axes>"
      ]
     },
     "metadata": {
      "needs_background": "light"
     },
     "output_type": "display_data"
    }
   ],
   "source": [
    "# Fit Random forest with count vectorizor\n",
    "\n",
    "model_fit_evaluate(rfcl, tup_vec)"
   ]
  },
  {
   "cell_type": "code",
   "execution_count": 104,
   "metadata": {},
   "outputs": [
    {
     "name": "stdout",
     "output_type": "stream",
     "text": [
      "Model:  RandomForestClassifier(max_depth=20, n_jobs=-1, random_state=7)\n",
      "Training data Cross Validation Score:  0.7113426297187324\n",
      "Test Score:  0.7135470527404343\n"
     ]
    },
    {
     "data": {
      "image/png": "[encoded data removed]",
      "text/plain": [
       "<Figure size 720x576 with 2 Axes>"
      ]
     },
     "metadata": {
      "needs_background": "light"
     },
     "output_type": "display_data"
    }
   ],
   "source": [
    "# Fit Random Forest with TfidfVectorizer vectorizor\n",
    "\n",
    "model_fit_evaluate(rfcl, tup_tfidf)"
   ]
  },
  {
   "cell_type": "code",
   "execution_count": 105,
   "metadata": {},
   "outputs": [
    {
     "name": "stdout",
     "output_type": "stream",
     "text": [
      "Model:  GradientBoostingClassifier(learning_rate=0.01, n_estimators=250, random_state=7)\n",
      "Training data Cross Validation Score:  0.6952249844070213\n",
      "Test Score:  0.6938986556359876\n"
     ]
    },
    {
     "data": {
      "image/png": "[encoded data removed]",
      "text/plain": [
       "<Figure size 720x576 with 2 Axes>"
      ]
     },
     "metadata": {
      "needs_background": "light"
     },
     "output_type": "display_data"
    }
   ],
   "source": [
    "# Fit Gradient Boost with count vectorizor\n",
    "\n",
    "model_fit_evaluate(gbcl, tup_vec)"
   ]
  },
  {
   "cell_type": "code",
   "execution_count": 106,
   "metadata": {},
   "outputs": [
    {
     "name": "stdout",
     "output_type": "stream",
     "text": [
      "Model:  GradientBoostingClassifier(learning_rate=0.01, n_estimators=250, random_state=7)\n",
      "Training data Cross Validation Score:  0.6979836050966765\n",
      "Test Score:  0.6959669079627715\n"
     ]
    },
    {
     "data": {
      "image/png": "[encoded data removed]",
      "text/plain": [
       "<Figure size 720x576 with 2 Axes>"
      ]
     },
     "metadata": {
      "needs_background": "light"
     },
     "output_type": "display_data"
    }
   ],
   "source": [
    "# Fit Gradient Boost with TfIDF vectorizor\n",
    "\n",
    "model_fit_evaluate(gbcl, tup_tfidf)"
   ]
  },
  {
   "cell_type": "code",
   "execution_count": 107,
   "metadata": {},
   "outputs": [
    {
     "name": "stdout",
     "output_type": "stream",
     "text": [
      "Model:  KNeighborsClassifier(n_jobs=-1)\n",
      "Training data Cross Validation Score:  0.6615238795331017\n",
      "Test Score:  0.6559806963116167\n"
     ]
    },
    {
     "data": {
      "image/png": "[encoded data removed]",
      "text/plain": [
       "<Figure size 720x576 with 2 Axes>"
      ]
     },
     "metadata": {
      "needs_background": "light"
     },
     "output_type": "display_data"
    }
   ],
   "source": [
    "# Fit KNN with count vectorizor\n",
    "\n",
    "model_fit_evaluate(kncl, tup_vec)"
   ]
  },
  {
   "cell_type": "code",
   "execution_count": 108,
   "metadata": {},
   "outputs": [
    {
     "name": "stdout",
     "output_type": "stream",
     "text": [
      "Model:  KNeighborsClassifier(n_jobs=-1)\n",
      "Training data Cross Validation Score:  0.5566259021651965\n",
      "Test Score:  0.546018614270941\n"
     ]
    },
    {
     "data": {
      "image/png": "[encoded data removed]",
      "text/plain": [
       "<Figure size 720x576 with 2 Axes>"
      ]
     },
     "metadata": {
      "needs_background": "light"
     },
     "output_type": "display_data"
    }
   ],
   "source": [
    "# Fit KNN with count vectorizor\n",
    "\n",
    "model_fit_evaluate(kncl, tup_tfidf)"
   ]
  },
  {
   "cell_type": "code",
   "execution_count": 109,
   "metadata": {},
   "outputs": [
    {
     "name": "stdout",
     "output_type": "stream",
     "text": [
      "Model:  GaussianNB()\n",
      "Training data Cross Validation Score:  0.4844835011434851\n",
      "Test Score:  0.4722509479489831\n"
     ]
    },
    {
     "data": {
      "image/png": "[encoded data removed]",
      "text/plain": [
       "<Figure size 720x576 with 2 Axes>"
      ]
     },
     "metadata": {
      "needs_background": "light"
     },
     "output_type": "display_data"
    }
   ],
   "source": [
    "# Fit Native Bayes with count vectorizor\n",
    "\n",
    "model_fit_evaluate(nbcl, tup_vec)"
   ]
  },
  {
   "cell_type": "code",
   "execution_count": 110,
   "metadata": {},
   "outputs": [
    {
     "name": "stdout",
     "output_type": "stream",
     "text": [
      "Model:  GaussianNB()\n",
      "Training data Cross Validation Score:  0.4592288900769253\n",
      "Test Score:  0.44846604619096864\n"
     ]
    },
    {
     "data": {
      "image/png": "[encoded data removed]",
      "text/plain": [
       "<Figure size 720x576 with 2 Axes>"
      ]
     },
     "metadata": {
      "needs_background": "light"
     },
     "output_type": "display_data"
    }
   ],
   "source": [
    "# Fit Native Bayes with TfIdf vectorizor\n",
    "\n",
    "model_fit_evaluate(nbcl, tup_tfidf)"
   ]
  },
  {
   "attachments": {},
   "cell_type": "markdown",
   "metadata": {},
   "source": [
    "<font color='green'>**Observation:** </font>\n",
    "- In Classical machine learning algorithm Random forest gives better result than other models\n",
    "- Tfidf vectorizor works little better than count vectorizor."
   ]
  },
  {
   "cell_type": "markdown",
   "metadata": {},
   "source": [
    "### 5.b. Deep learning"
   ]
  },
  {
   "cell_type": "code",
   "execution_count": 113,
   "metadata": {},
   "outputs": [],
   "source": [
    "# Convert labels to one hot vectors.\n",
    "\n",
    "lbin = LabelBinarizer()"
   ]
  },
  {
   "cell_type": "code",
   "execution_count": 114,
   "metadata": {},
   "outputs": [],
   "source": [
    "X_train_vec = X_train_vec.toarray()\n",
    "X_train_tfidf = X_train_tfidf.toarray()\n",
    "y_train = lbin.fit_transform(y_train)\n",
    "\n",
    "X_test_vec = X_test_vec.toarray()\n",
    "X_test_tfidf = X_test_tfidf.toarray()\n",
    "y_test = lbin.transform(y_test)\n"
   ]
  },
  {
   "cell_type": "markdown",
   "metadata": {},
   "source": [
    "#### <font color='sky blue'>Count Vectorizor</font>"
   ]
  },
  {
   "cell_type": "code",
   "execution_count": 158,
   "metadata": {},
   "outputs": [],
   "source": [
    "# Initializing and build sequential model for Count vectorizor\n",
    "\n",
    "model = Sequential()\n",
    "\n",
    "model.add(Dense(16, input_shape = (500,), activation = 'relu', kernel_initializer='normal', bias_initializer='zeros'))\n",
    "model.add(Dropout(0.25))\n",
    "model.add(Dense(3, activation=\"softmax\"))"
   ]
  },
  {
   "cell_type": "code",
   "execution_count": 159,
   "metadata": {},
   "outputs": [],
   "source": [
    "# initiate Adam optimizer\n",
    "opt = Adam(learning_rate=0.001, beta_1=0.9, beta_2=0.999, epsilon=1e-08)\n",
    "\n",
    "lss = 'categorical_crossentropy'"
   ]
  },
  {
   "cell_type": "code",
   "execution_count": 160,
   "metadata": {},
   "outputs": [],
   "source": [
    "# Model compile\n",
    "\n",
    "model.compile(optimizer = opt, loss = lss, metrics=['accuracy'])"
   ]
  },
  {
   "cell_type": "code",
   "execution_count": 161,
   "metadata": {},
   "outputs": [
    {
     "name": "stdout",
     "output_type": "stream",
     "text": [
      "Model: \"sequential_6\"\n",
      "_________________________________________________________________\n",
      "Layer (type)                 Output Shape              Param #   \n",
      "=================================================================\n",
      "dense_18 (Dense)             (None, 16)                8016      \n",
      "_________________________________________________________________\n",
      "dropout_12 (Dropout)         (None, 16)                0         \n",
      "_________________________________________________________________\n",
      "dense_19 (Dense)             (None, 3)                 51        \n",
      "=================================================================\n",
      "Total params: 8,067\n",
      "Trainable params: 8,067\n",
      "Non-trainable params: 0\n",
      "_________________________________________________________________\n"
     ]
    }
   ],
   "source": [
    "# Model summary\n",
    "\n",
    "model.summary()"
   ]
  },
  {
   "cell_type": "markdown",
   "metadata": {},
   "source": [
    "#### Training [Forward pass and Backpropagation]"
   ]
  },
  {
   "cell_type": "code",
   "execution_count": 162,
   "metadata": {},
   "outputs": [
    {
     "name": "stdout",
     "output_type": "stream",
     "text": [
      "Epoch 1/25\n",
      "19/19 [==============================] - 1s 14ms/step - loss: 1.0581 - accuracy: 0.4944 - val_loss: 0.9661 - val_accuracy: 0.6316\n",
      "Epoch 2/25\n",
      "19/19 [==============================] - 0s 5ms/step - loss: 0.9403 - accuracy: 0.6150 - val_loss: 0.8565 - val_accuracy: 0.6316\n",
      "Epoch 3/25\n",
      "19/19 [==============================] - 0s 6ms/step - loss: 0.8380 - accuracy: 0.6294 - val_loss: 0.7904 - val_accuracy: 0.6316\n",
      "Epoch 4/25\n",
      "19/19 [==============================] - 0s 6ms/step - loss: 0.7863 - accuracy: 0.6260 - val_loss: 0.7554 - val_accuracy: 0.6359\n",
      "Epoch 5/25\n",
      "19/19 [==============================] - 0s 6ms/step - loss: 0.7460 - accuracy: 0.6345 - val_loss: 0.7287 - val_accuracy: 0.6402\n",
      "Epoch 6/25\n",
      "19/19 [==============================] - 0s 5ms/step - loss: 0.7117 - accuracy: 0.6513 - val_loss: 0.7058 - val_accuracy: 0.6484\n",
      "Epoch 7/25\n",
      "19/19 [==============================] - 0s 6ms/step - loss: 0.6918 - accuracy: 0.6641 - val_loss: 0.6856 - val_accuracy: 0.6747\n",
      "Epoch 8/25\n",
      "19/19 [==============================] - 0s 5ms/step - loss: 0.6708 - accuracy: 0.6948 - val_loss: 0.6670 - val_accuracy: 0.6937\n",
      "Epoch 9/25\n",
      "19/19 [==============================] - 0s 6ms/step - loss: 0.6496 - accuracy: 0.7193 - val_loss: 0.6499 - val_accuracy: 0.7143\n",
      "Epoch 10/25\n",
      "19/19 [==============================] - 0s 5ms/step - loss: 0.6240 - accuracy: 0.7406 - val_loss: 0.6351 - val_accuracy: 0.7290\n",
      "Epoch 11/25\n",
      "19/19 [==============================] - 0s 6ms/step - loss: 0.6111 - accuracy: 0.7510 - val_loss: 0.6219 - val_accuracy: 0.7359\n",
      "Epoch 12/25\n",
      "19/19 [==============================] - 0s 6ms/step - loss: 0.5889 - accuracy: 0.7603 - val_loss: 0.6117 - val_accuracy: 0.7484\n",
      "Epoch 13/25\n",
      "19/19 [==============================] - 0s 6ms/step - loss: 0.5762 - accuracy: 0.7733 - val_loss: 0.6029 - val_accuracy: 0.7531\n",
      "Epoch 14/25\n",
      "19/19 [==============================] - 0s 5ms/step - loss: 0.5653 - accuracy: 0.7755 - val_loss: 0.5961 - val_accuracy: 0.7617\n",
      "Epoch 15/25\n",
      "19/19 [==============================] - 0s 6ms/step - loss: 0.5632 - accuracy: 0.7794 - val_loss: 0.5910 - val_accuracy: 0.7660\n",
      "Epoch 16/25\n",
      "19/19 [==============================] - 0s 6ms/step - loss: 0.5478 - accuracy: 0.7837 - val_loss: 0.5872 - val_accuracy: 0.7669\n",
      "Epoch 17/25\n",
      "19/19 [==============================] - 0s 6ms/step - loss: 0.5401 - accuracy: 0.7857 - val_loss: 0.5845 - val_accuracy: 0.7682\n",
      "Epoch 18/25\n",
      "19/19 [==============================] - 0s 6ms/step - loss: 0.5338 - accuracy: 0.7854 - val_loss: 0.5820 - val_accuracy: 0.7691\n",
      "Epoch 19/25\n",
      "19/19 [==============================] - 0s 6ms/step - loss: 0.5361 - accuracy: 0.7889 - val_loss: 0.5810 - val_accuracy: 0.7682\n",
      "Epoch 20/25\n",
      "19/19 [==============================] - 0s 5ms/step - loss: 0.5218 - accuracy: 0.7891 - val_loss: 0.5797 - val_accuracy: 0.7695\n",
      "Epoch 21/25\n",
      "19/19 [==============================] - 0s 6ms/step - loss: 0.5300 - accuracy: 0.7918 - val_loss: 0.5791 - val_accuracy: 0.7686\n",
      "Epoch 22/25\n",
      "19/19 [==============================] - 0s 6ms/step - loss: 0.5348 - accuracy: 0.7846 - val_loss: 0.5785 - val_accuracy: 0.7682\n",
      "Epoch 23/25\n",
      "19/19 [==============================] - 0s 6ms/step - loss: 0.5150 - accuracy: 0.7951 - val_loss: 0.5783 - val_accuracy: 0.7678\n",
      "Epoch 24/25\n",
      "19/19 [==============================] - 0s 5ms/step - loss: 0.5156 - accuracy: 0.7903 - val_loss: 0.5781 - val_accuracy: 0.7699\n",
      "Epoch 25/25\n",
      "19/19 [==============================] - 0s 5ms/step - loss: 0.5001 - accuracy: 0.7998 - val_loss: 0.5785 - val_accuracy: 0.7686\n"
     ]
    }
   ],
   "source": [
    "# running with count vectorizor\n",
    "\n",
    "history = model.fit(X_train_vec, y_train, batch_size=500, epochs = 25, verbose = 1, validation_split=.2)\n"
   ]
  },
  {
   "cell_type": "code",
   "execution_count": 163,
   "metadata": {},
   "outputs": [],
   "source": [
    "hist  = pd.DataFrame(history.history)\n",
    "hist['epoch'] = history.epoch"
   ]
  },
  {
   "cell_type": "code",
   "execution_count": 164,
   "metadata": {},
   "outputs": [
    {
     "data": {
      "text/plain": [
       "<matplotlib.legend.Legend at 0x1b5a66558b0>"
      ]
     },
     "execution_count": 164,
     "metadata": {},
     "output_type": "execute_result"
    },
    {
     "data": {
      "image/png": "[encoded data removed]",
      "text/plain": [
       "<Figure size 432x288 with 1 Axes>"
      ]
     },
     "metadata": {
      "needs_background": "light"
     },
     "output_type": "display_data"
    }
   ],
   "source": [
    "plt.plot(hist['loss'])\n",
    "plt.plot(hist['val_loss'])\n",
    "plt.legend((\"train\" , \"valid\") , loc =0)"
   ]
  },
  {
   "cell_type": "code",
   "execution_count": 165,
   "metadata": {},
   "outputs": [
    {
     "data": {
      "text/plain": [
       "<matplotlib.legend.Legend at 0x1b5a6693970>"
      ]
     },
     "execution_count": 165,
     "metadata": {},
     "output_type": "execute_result"
    },
    {
     "data": {
      "image/png": "[encoded data removed]",
      "text/plain": [
       "<Figure size 432x288 with 1 Axes>"
      ]
     },
     "metadata": {
      "needs_background": "light"
     },
     "output_type": "display_data"
    }
   ],
   "source": [
    "plt.plot(hist['accuracy'])\n",
    "plt.plot(hist['val_accuracy'])\n",
    "plt.legend((\"train\" , \"valid\") , loc =0)"
   ]
  },
  {
   "cell_type": "code",
   "execution_count": 166,
   "metadata": {},
   "outputs": [
    {
     "name": "stdout",
     "output_type": "stream",
     "text": [
      "91/91 [==============================] - 0s 711us/step - loss: 0.5722 - accuracy: 0.7615\n"
     ]
    },
    {
     "data": {
      "text/plain": [
       "[0.57217937707901, 0.7614615559577942]"
      ]
     },
     "execution_count": 166,
     "metadata": {},
     "output_type": "execute_result"
    }
   ],
   "source": [
    "# Check accuracy score on test data\n",
    "\n",
    "model.evaluate(X_test_vec,y_test)"
   ]
  },
  {
   "cell_type": "code",
   "execution_count": 176,
   "metadata": {},
   "outputs": [],
   "source": [
    "#predicting target variable\n",
    "\n",
    "y_predict = np.argmax(model.predict(X_test_vec), axis=-1)\n",
    "y_test_label_code = np.argmax(y_test, axis=-1)"
   ]
  },
  {
   "cell_type": "code",
   "execution_count": 177,
   "metadata": {},
   "outputs": [
    {
     "data": {
      "text/plain": [
       "array([0, 0, 0, 0, 0, 0, 1, 1, 0, 0, 0, 0, 0, 2, 0, 0, 1, 0, 0, 0, 0, 1,\n",
       "       2, 1, 0, 1, 0, 0, 0, 0, 0, 0, 0, 0, 0, 1, 2, 0, 2, 1, 1, 1, 0, 1,\n",
       "       0, 0, 0, 0, 0, 1], dtype=int64)"
      ]
     },
     "execution_count": 177,
     "metadata": {},
     "output_type": "execute_result"
    }
   ],
   "source": [
    "y_test_label_code[0:50]"
   ]
  },
  {
   "cell_type": "code",
   "execution_count": 178,
   "metadata": {},
   "outputs": [
    {
     "data": {
      "image/png": "[encoded data removed]",
      "text/plain": [
       "<Figure size 720x576 with 2 Axes>"
      ]
     },
     "metadata": {
      "needs_background": "light"
     },
     "output_type": "display_data"
    }
   ],
   "source": [
    "# confusion matrix\n",
    "labels = ['Negative','Neutral','Positive']\n",
    "    \n",
    "fig, ax = plt.subplots(nrows=1,ncols=1,figsize = (10,8));\n",
    "cm= confusion_matrix(y_test_label_code,y_predict)\n",
    "sns.heatmap(cm ,annot=True,ax = ax,fmt='g',annot_kws={\"size\": 15});\n",
    "ax.set_xlabel('Predicted labels',fontsize=15);\n",
    "ax.set_ylabel('True labels',fontsize=15);\n",
    "ax.set_title('Confusion Matrix',fontsize=15);\n",
    "ax.xaxis.set_ticklabels(labels,fontsize=12,rotation = 45, color='blue');\n",
    "ax.yaxis.set_ticklabels(labels,fontsize=12,rotation = 45, color='blue');"
   ]
  },
  {
   "attachments": {},
   "cell_type": "markdown",
   "metadata": {},
   "source": [
    "#### <font color='sky blue'>Tfidf Vectorizor</font>"
   ]
  },
  {
   "cell_type": "code",
   "execution_count": 179,
   "metadata": {},
   "outputs": [],
   "source": [
    "# Initializing and build sequential model for Tfidf vectorizor\n",
    "\n",
    "model = Sequential()\n",
    "\n",
    "model.add(Dense(16, input_shape = (500,), activation = 'relu', kernel_initializer='normal', bias_initializer='zeros'))\n",
    "model.add(Dropout(0.25))\n",
    "model.add(Dense(3, activation=\"softmax\"))"
   ]
  },
  {
   "cell_type": "code",
   "execution_count": 180,
   "metadata": {},
   "outputs": [],
   "source": [
    "# initiate Adam optimizer\n",
    "opt = Adam(learning_rate=0.001, beta_1=0.9, beta_2=0.999, epsilon=1e-08)\n",
    "\n",
    "lss = 'categorical_crossentropy'"
   ]
  },
  {
   "cell_type": "code",
   "execution_count": 181,
   "metadata": {},
   "outputs": [],
   "source": [
    "# Model compile\n",
    "\n",
    "model.compile(optimizer = opt, loss = lss, metrics=['accuracy'])"
   ]
  },
  {
   "cell_type": "code",
   "execution_count": 182,
   "metadata": {},
   "outputs": [
    {
     "name": "stdout",
     "output_type": "stream",
     "text": [
      "Model: \"sequential_7\"\n",
      "_________________________________________________________________\n",
      "Layer (type)                 Output Shape              Param #   \n",
      "=================================================================\n",
      "dense_20 (Dense)             (None, 16)                8016      \n",
      "_________________________________________________________________\n",
      "dropout_13 (Dropout)         (None, 16)                0         \n",
      "_________________________________________________________________\n",
      "dense_21 (Dense)             (None, 3)                 51        \n",
      "=================================================================\n",
      "Total params: 8,067\n",
      "Trainable params: 8,067\n",
      "Non-trainable params: 0\n",
      "_________________________________________________________________\n"
     ]
    }
   ],
   "source": [
    "# Model summary\n",
    "\n",
    "model.summary()"
   ]
  },
  {
   "cell_type": "markdown",
   "metadata": {},
   "source": [
    "#### Training [Forward pass and Backpropagation]"
   ]
  },
  {
   "cell_type": "code",
   "execution_count": 183,
   "metadata": {},
   "outputs": [
    {
     "name": "stdout",
     "output_type": "stream",
     "text": [
      "Epoch 1/25\n",
      "19/19 [==============================] - 1s 15ms/step - loss: 1.0899 - accuracy: 0.4336 - val_loss: 1.0533 - val_accuracy: 0.6333\n",
      "Epoch 2/25\n",
      "19/19 [==============================] - 0s 5ms/step - loss: 1.0387 - accuracy: 0.6332 - val_loss: 1.0002 - val_accuracy: 0.6316\n",
      "Epoch 3/25\n",
      "19/19 [==============================] - 0s 5ms/step - loss: 0.9843 - accuracy: 0.6343 - val_loss: 0.9440 - val_accuracy: 0.6316\n",
      "Epoch 4/25\n",
      "19/19 [==============================] - 0s 5ms/step - loss: 0.9282 - accuracy: 0.6314 - val_loss: 0.8896 - val_accuracy: 0.6316\n",
      "Epoch 5/25\n",
      "19/19 [==============================] - 0s 4ms/step - loss: 0.8776 - accuracy: 0.6270 - val_loss: 0.8431 - val_accuracy: 0.6325\n",
      "Epoch 6/25\n",
      "19/19 [==============================] - 0s 5ms/step - loss: 0.8300 - accuracy: 0.6361 - val_loss: 0.8054 - val_accuracy: 0.6454\n",
      "Epoch 7/25\n",
      "19/19 [==============================] - 0s 5ms/step - loss: 0.8004 - accuracy: 0.6422 - val_loss: 0.7742 - val_accuracy: 0.6540\n",
      "Epoch 8/25\n",
      "19/19 [==============================] - 0s 5ms/step - loss: 0.7680 - accuracy: 0.6582 - val_loss: 0.7461 - val_accuracy: 0.6661\n",
      "Epoch 9/25\n",
      "19/19 [==============================] - 0s 5ms/step - loss: 0.7277 - accuracy: 0.6862 - val_loss: 0.7205 - val_accuracy: 0.6760\n",
      "Epoch 10/25\n",
      "19/19 [==============================] - 0s 5ms/step - loss: 0.7087 - accuracy: 0.6989 - val_loss: 0.6981 - val_accuracy: 0.6932\n",
      "Epoch 11/25\n",
      "19/19 [==============================] - 0s 5ms/step - loss: 0.6800 - accuracy: 0.7177 - val_loss: 0.6785 - val_accuracy: 0.7053\n",
      "Epoch 12/25\n",
      "19/19 [==============================] - 0s 5ms/step - loss: 0.6516 - accuracy: 0.7342 - val_loss: 0.6622 - val_accuracy: 0.7182\n",
      "Epoch 13/25\n",
      "19/19 [==============================] - 0s 5ms/step - loss: 0.6260 - accuracy: 0.7489 - val_loss: 0.6478 - val_accuracy: 0.7312\n",
      "Epoch 14/25\n",
      "19/19 [==============================] - 0s 4ms/step - loss: 0.6201 - accuracy: 0.7511 - val_loss: 0.6363 - val_accuracy: 0.7307\n",
      "Epoch 15/25\n",
      "19/19 [==============================] - 0s 5ms/step - loss: 0.6038 - accuracy: 0.7530 - val_loss: 0.6265 - val_accuracy: 0.7376\n",
      "Epoch 16/25\n",
      "19/19 [==============================] - 0s 5ms/step - loss: 0.6061 - accuracy: 0.7560 - val_loss: 0.6186 - val_accuracy: 0.7441\n",
      "Epoch 17/25\n",
      "19/19 [==============================] - 0s 5ms/step - loss: 0.5792 - accuracy: 0.7684 - val_loss: 0.6119 - val_accuracy: 0.7454\n",
      "Epoch 18/25\n",
      "19/19 [==============================] - 0s 6ms/step - loss: 0.5690 - accuracy: 0.7784 - val_loss: 0.6067 - val_accuracy: 0.7445\n",
      "Epoch 19/25\n",
      "19/19 [==============================] - 0s 5ms/step - loss: 0.5694 - accuracy: 0.7742 - val_loss: 0.6020 - val_accuracy: 0.7484\n",
      "Epoch 20/25\n",
      "19/19 [==============================] - 0s 5ms/step - loss: 0.5688 - accuracy: 0.7740 - val_loss: 0.5980 - val_accuracy: 0.7523\n",
      "Epoch 21/25\n",
      "19/19 [==============================] - 0s 5ms/step - loss: 0.5617 - accuracy: 0.7758 - val_loss: 0.5948 - val_accuracy: 0.7523\n",
      "Epoch 22/25\n",
      "19/19 [==============================] - 0s 5ms/step - loss: 0.5475 - accuracy: 0.7834 - val_loss: 0.5927 - val_accuracy: 0.7531\n",
      "Epoch 23/25\n",
      "19/19 [==============================] - 0s 5ms/step - loss: 0.5509 - accuracy: 0.7860 - val_loss: 0.5902 - val_accuracy: 0.7574\n",
      "Epoch 24/25\n",
      "19/19 [==============================] - 0s 5ms/step - loss: 0.5510 - accuracy: 0.7809 - val_loss: 0.5885 - val_accuracy: 0.7570\n",
      "Epoch 25/25\n",
      "19/19 [==============================] - 0s 5ms/step - loss: 0.5453 - accuracy: 0.7842 - val_loss: 0.5874 - val_accuracy: 0.7587\n"
     ]
    }
   ],
   "source": [
    "# running with count vectorizor\n",
    "\n",
    "history = model.fit(X_train_tfidf, y_train, batch_size=500, epochs = 25, verbose = 1, validation_split=.2)\n"
   ]
  },
  {
   "cell_type": "code",
   "execution_count": 184,
   "metadata": {},
   "outputs": [],
   "source": [
    "hist  = pd.DataFrame(history.history)\n",
    "hist['epoch'] = history.epoch"
   ]
  },
  {
   "cell_type": "code",
   "execution_count": 185,
   "metadata": {},
   "outputs": [
    {
     "data": {
      "text/plain": [
       "<matplotlib.legend.Legend at 0x1b5a79775e0>"
      ]
     },
     "execution_count": 185,
     "metadata": {},
     "output_type": "execute_result"
    },
    {
     "data": {
      "image/png": "[encoded data removed]",
      "text/plain": [
       "<Figure size 432x288 with 1 Axes>"
      ]
     },
     "metadata": {
      "needs_background": "light"
     },
     "output_type": "display_data"
    }
   ],
   "source": [
    "plt.plot(hist['loss'])\n",
    "plt.plot(hist['val_loss'])\n",
    "plt.legend((\"train\" , \"valid\") , loc =0)"
   ]
  },
  {
   "cell_type": "code",
   "execution_count": 186,
   "metadata": {},
   "outputs": [
    {
     "data": {
      "text/plain": [
       "<matplotlib.legend.Legend at 0x1b596c00f40>"
      ]
     },
     "execution_count": 186,
     "metadata": {},
     "output_type": "execute_result"
    },
    {
     "data": {
      "image/png": "[encoded data removed]",
      "text/plain": [
       "<Figure size 432x288 with 1 Axes>"
      ]
     },
     "metadata": {
      "needs_background": "light"
     },
     "output_type": "display_data"
    }
   ],
   "source": [
    "plt.plot(hist['accuracy'])\n",
    "plt.plot(hist['val_accuracy'])\n",
    "plt.legend((\"train\" , \"valid\") , loc =0)"
   ]
  },
  {
   "cell_type": "code",
   "execution_count": 187,
   "metadata": {},
   "outputs": [
    {
     "name": "stdout",
     "output_type": "stream",
     "text": [
      "91/91 [==============================] - 0s 733us/step - loss: 0.5837 - accuracy: 0.7587\n"
     ]
    },
    {
     "data": {
      "text/plain": [
       "[0.5837251543998718, 0.758703887462616]"
      ]
     },
     "execution_count": 187,
     "metadata": {},
     "output_type": "execute_result"
    }
   ],
   "source": [
    "# Check accuracy score on test data\n",
    "\n",
    "model.evaluate(X_test_tfidf,y_test)"
   ]
  },
  {
   "cell_type": "code",
   "execution_count": 188,
   "metadata": {},
   "outputs": [],
   "source": [
    "#predicting target variable\n",
    "\n",
    "y_predict = np.argmax(model.predict(X_test_tfidf), axis=-1)\n",
    "y_test_label_code = np.argmax(y_test, axis=-1)"
   ]
  },
  {
   "cell_type": "code",
   "execution_count": 189,
   "metadata": {},
   "outputs": [
    {
     "data": {
      "image/png": "[encoded data removed]",
      "text/plain": [
       "<Figure size 720x576 with 2 Axes>"
      ]
     },
     "metadata": {
      "needs_background": "light"
     },
     "output_type": "display_data"
    }
   ],
   "source": [
    "# confusion matrix\n",
    "labels = ['Negative','Neutral','Positive']\n",
    "    \n",
    "fig, ax = plt.subplots(nrows=1,ncols=1,figsize = (10,8));\n",
    "cm= confusion_matrix(y_test_label_code,y_predict)\n",
    "sns.heatmap(cm ,annot=True,ax = ax,fmt='g',annot_kws={\"size\": 15});\n",
    "ax.set_xlabel('Predicted labels',fontsize=15);\n",
    "ax.set_ylabel('True labels',fontsize=15);\n",
    "ax.set_title('Confusion Matrix',fontsize=15);\n",
    "ax.xaxis.set_ticklabels(labels,fontsize=12,rotation = 45, color='blue');\n",
    "ax.yaxis.set_ticklabels(labels,fontsize=12,rotation = 45, color='blue');"
   ]
  },
  {
   "attachments": {},
   "cell_type": "markdown",
   "metadata": {},
   "source": [
    "<font color='green'>**Observation:** </font>\n",
    "- Deep learning model gives little bit improved score than conventional machine learning\n",
    "- Whaere as here Count vectorizor works slighly better compared to Tfidf vectorizor"
   ]
  },
  {
   "attachments": {},
   "cell_type": "markdown",
   "metadata": {},
   "source": [
    "#### <font color='sky blue'>Vectorization unsing n-gram </font>"
   ]
  },
  {
   "cell_type": "code",
   "execution_count": 377,
   "metadata": {},
   "outputs": [],
   "source": [
    "# Count Vectorization \n",
    "\n",
    "\n",
    "vectorizer = CountVectorizer(max_features=1500, ngram_range=(1, 2))           \n",
    "X_train_vec = vectorizer.fit_transform(X_train).toarray()\n",
    "\n",
    "\n",
    "X_test_vec = vectorizer.transform(X_test).toarray()"
   ]
  },
  {
   "cell_type": "code",
   "execution_count": 378,
   "metadata": {},
   "outputs": [
    {
     "data": {
      "text/plain": [
       "['able',\n",
       " 'absolute',\n",
       " 'absolutely',\n",
       " 'accept',\n",
       " 'acceptable',\n",
       " 'access',\n",
       " 'accommodate',\n",
       " 'account',\n",
       " 'acct',\n",
       " 'act',\n",
       " 'action',\n",
       " 'actual',\n",
       " 'actually',\n",
       " 'add',\n",
       " 'additional',\n",
       " 'address',\n",
       " 'admiral',\n",
       " 'admiral club',\n",
       " 'advance',\n",
       " 'advise',\n",
       " 'advisory',\n",
       " 'affect',\n",
       " 'afternoon',\n",
       " 'age',\n",
       " 'agent']"
      ]
     },
     "execution_count": 378,
     "metadata": {},
     "output_type": "execute_result"
    }
   ],
   "source": [
    "vectorizer.get_feature_names()[:25]"
   ]
  },
  {
   "cell_type": "code",
   "execution_count": 379,
   "metadata": {},
   "outputs": [
    {
     "data": {
      "text/plain": [
       "(11602, 1500)"
      ]
     },
     "execution_count": 379,
     "metadata": {},
     "output_type": "execute_result"
    }
   ],
   "source": [
    "X_train_vec.shape"
   ]
  },
  {
   "cell_type": "code",
   "execution_count": 380,
   "metadata": {},
   "outputs": [],
   "source": [
    "# TfidfVectorizer\n",
    "\n",
    "vectorizer_tfidf = TfidfVectorizer(max_features=1500,  ngram_range=(1, 2))\n",
    "X_train_tfidf = vectorizer_tfidf.fit_transform(X_train).toarray()\n",
    "\n",
    "\n",
    "X_test_tfidf = vectorizer_tfidf.transform(X_test).toarray()\n"
   ]
  },
  {
   "cell_type": "code",
   "execution_count": 381,
   "metadata": {},
   "outputs": [
    {
     "data": {
      "text/plain": [
       "['able',\n",
       " 'absolute',\n",
       " 'absolutely',\n",
       " 'accept',\n",
       " 'acceptable',\n",
       " 'access',\n",
       " 'accommodate',\n",
       " 'account',\n",
       " 'acct',\n",
       " 'act',\n",
       " 'action',\n",
       " 'actual',\n",
       " 'actually',\n",
       " 'add',\n",
       " 'additional',\n",
       " 'address',\n",
       " 'admiral',\n",
       " 'admiral club',\n",
       " 'advance',\n",
       " 'advise',\n",
       " 'advisory',\n",
       " 'affect',\n",
       " 'afternoon',\n",
       " 'age',\n",
       " 'agent']"
      ]
     },
     "execution_count": 381,
     "metadata": {},
     "output_type": "execute_result"
    }
   ],
   "source": [
    "vectorizer_tfidf.get_feature_names()[:25]"
   ]
  },
  {
   "cell_type": "code",
   "execution_count": 382,
   "metadata": {},
   "outputs": [
    {
     "data": {
      "text/plain": [
       "(11602, 1500)"
      ]
     },
     "execution_count": 382,
     "metadata": {},
     "output_type": "execute_result"
    }
   ],
   "source": [
    "X_train_tfidf.shape"
   ]
  },
  {
   "attachments": {},
   "cell_type": "markdown",
   "metadata": {},
   "source": [
    "#### <font color='sky blue'>Tfidf Vectorizor</font>"
   ]
  },
  {
   "cell_type": "code",
   "execution_count": 395,
   "metadata": {},
   "outputs": [],
   "source": [
    "# Initializing and build sequential model for Tfidf vectorizor\n",
    "\n",
    "model = Sequential()\n",
    "\n",
    "model.add(Dense(16, input_shape = (1500,), activation = 'relu', kernel_initializer='normal', bias_initializer='zeros'))\n",
    "model.add(Dropout(0.25))\n",
    "model.add(Dense(3, activation=\"softmax\"))"
   ]
  },
  {
   "cell_type": "code",
   "execution_count": 396,
   "metadata": {},
   "outputs": [],
   "source": [
    "# initiate Adam optimizer\n",
    "opt = Adam(learning_rate=0.001, beta_1=0.9, beta_2=0.999, epsilon=1e-08)\n",
    "\n",
    "lss = 'categorical_crossentropy'"
   ]
  },
  {
   "cell_type": "code",
   "execution_count": 397,
   "metadata": {},
   "outputs": [],
   "source": [
    "# Model compile\n",
    "\n",
    "model.compile(optimizer = opt, loss = lss, metrics=['accuracy'])"
   ]
  },
  {
   "cell_type": "code",
   "execution_count": 398,
   "metadata": {},
   "outputs": [
    {
     "name": "stdout",
     "output_type": "stream",
     "text": [
      "Model: \"sequential_21\"\n",
      "_________________________________________________________________\n",
      "Layer (type)                 Output Shape              Param #   \n",
      "=================================================================\n",
      "dense_48 (Dense)             (None, 16)                24016     \n",
      "_________________________________________________________________\n",
      "dropout_27 (Dropout)         (None, 16)                0         \n",
      "_________________________________________________________________\n",
      "dense_49 (Dense)             (None, 3)                 51        \n",
      "=================================================================\n",
      "Total params: 24,067\n",
      "Trainable params: 24,067\n",
      "Non-trainable params: 0\n",
      "_________________________________________________________________\n"
     ]
    }
   ],
   "source": [
    "# Model summary\n",
    "\n",
    "model.summary()"
   ]
  },
  {
   "cell_type": "markdown",
   "metadata": {},
   "source": [
    "#### Training [Forward pass and Backpropagation]"
   ]
  },
  {
   "cell_type": "code",
   "execution_count": 399,
   "metadata": {},
   "outputs": [
    {
     "name": "stdout",
     "output_type": "stream",
     "text": [
      "Epoch 1/25\n",
      "19/19 [==============================] - 1s 17ms/step - loss: 1.0761 - accuracy: 0.4994 - val_loss: 1.0258 - val_accuracy: 0.6333\n",
      "Epoch 2/25\n",
      "19/19 [==============================] - 0s 7ms/step - loss: 1.0061 - accuracy: 0.6248 - val_loss: 0.9529 - val_accuracy: 0.6316\n",
      "Epoch 3/25\n",
      "19/19 [==============================] - 0s 7ms/step - loss: 0.9338 - accuracy: 0.6243 - val_loss: 0.8877 - val_accuracy: 0.6316\n",
      "Epoch 4/25\n",
      "19/19 [==============================] - 0s 8ms/step - loss: 0.8632 - accuracy: 0.6345 - val_loss: 0.8385 - val_accuracy: 0.6325\n",
      "Epoch 5/25\n",
      "19/19 [==============================] - 0s 7ms/step - loss: 0.8218 - accuracy: 0.6286 - val_loss: 0.8031 - val_accuracy: 0.6364\n",
      "Epoch 6/25\n",
      "19/19 [==============================] - 0s 7ms/step - loss: 0.8008 - accuracy: 0.6331 - val_loss: 0.7734 - val_accuracy: 0.6532\n",
      "Epoch 7/25\n",
      "19/19 [==============================] - 0s 7ms/step - loss: 0.7517 - accuracy: 0.6654 - val_loss: 0.7446 - val_accuracy: 0.6678\n",
      "Epoch 8/25\n",
      "19/19 [==============================] - 0s 7ms/step - loss: 0.7252 - accuracy: 0.6811 - val_loss: 0.7172 - val_accuracy: 0.6863\n",
      "Epoch 9/25\n",
      "19/19 [==============================] - 0s 7ms/step - loss: 0.6878 - accuracy: 0.7164 - val_loss: 0.6914 - val_accuracy: 0.7044\n",
      "Epoch 10/25\n",
      "19/19 [==============================] - 0s 8ms/step - loss: 0.6578 - accuracy: 0.7328 - val_loss: 0.6688 - val_accuracy: 0.7161\n",
      "Epoch 11/25\n",
      "19/19 [==============================] - 0s 7ms/step - loss: 0.6197 - accuracy: 0.7574 - val_loss: 0.6489 - val_accuracy: 0.7264\n",
      "Epoch 12/25\n",
      "19/19 [==============================] - 0s 8ms/step - loss: 0.5954 - accuracy: 0.7791 - val_loss: 0.6320 - val_accuracy: 0.7380\n",
      "Epoch 13/25\n",
      "19/19 [==============================] - 0s 7ms/step - loss: 0.5760 - accuracy: 0.7804 - val_loss: 0.6176 - val_accuracy: 0.7501\n",
      "Epoch 14/25\n",
      "19/19 [==============================] - 0s 8ms/step - loss: 0.5552 - accuracy: 0.7937 - val_loss: 0.6056 - val_accuracy: 0.7514\n",
      "Epoch 15/25\n",
      "19/19 [==============================] - 0s 7ms/step - loss: 0.5394 - accuracy: 0.8025 - val_loss: 0.5961 - val_accuracy: 0.7536\n",
      "Epoch 16/25\n",
      "19/19 [==============================] - 0s 8ms/step - loss: 0.5265 - accuracy: 0.8051 - val_loss: 0.5881 - val_accuracy: 0.7622\n",
      "Epoch 17/25\n",
      "19/19 [==============================] - 0s 8ms/step - loss: 0.5171 - accuracy: 0.8096 - val_loss: 0.5817 - val_accuracy: 0.7660\n",
      "Epoch 18/25\n",
      "19/19 [==============================] - 0s 7ms/step - loss: 0.5073 - accuracy: 0.8094 - val_loss: 0.5768 - val_accuracy: 0.7665\n",
      "Epoch 19/25\n",
      "19/19 [==============================] - 0s 7ms/step - loss: 0.4907 - accuracy: 0.8156 - val_loss: 0.5723 - val_accuracy: 0.7678\n",
      "Epoch 20/25\n",
      "19/19 [==============================] - 0s 8ms/step - loss: 0.4888 - accuracy: 0.8122 - val_loss: 0.5690 - val_accuracy: 0.7712\n",
      "Epoch 21/25\n",
      "19/19 [==============================] - 0s 8ms/step - loss: 0.4762 - accuracy: 0.8205 - val_loss: 0.5662 - val_accuracy: 0.7717\n",
      "Epoch 22/25\n",
      "19/19 [==============================] - 0s 7ms/step - loss: 0.4728 - accuracy: 0.8208 - val_loss: 0.5645 - val_accuracy: 0.7729\n",
      "Epoch 23/25\n",
      "19/19 [==============================] - 0s 8ms/step - loss: 0.4693 - accuracy: 0.8223 - val_loss: 0.5633 - val_accuracy: 0.7738\n",
      "Epoch 24/25\n",
      "19/19 [==============================] - 0s 8ms/step - loss: 0.4670 - accuracy: 0.8221 - val_loss: 0.5623 - val_accuracy: 0.7742\n",
      "Epoch 25/25\n",
      "19/19 [==============================] - 0s 8ms/step - loss: 0.4470 - accuracy: 0.8357 - val_loss: 0.5618 - val_accuracy: 0.7725\n"
     ]
    }
   ],
   "source": [
    "# running with count vectorizor\n",
    "\n",
    "history = model.fit(X_train_tfidf, y_train, batch_size=500, epochs = 25, verbose = 1, validation_split=.2)\n"
   ]
  },
  {
   "cell_type": "code",
   "execution_count": 400,
   "metadata": {},
   "outputs": [],
   "source": [
    "hist  = pd.DataFrame(history.history)\n",
    "hist['epoch'] = history.epoch"
   ]
  },
  {
   "cell_type": "code",
   "execution_count": 401,
   "metadata": {},
   "outputs": [
    {
     "data": {
      "text/plain": [
       "<matplotlib.legend.Legend at 0x1b590933460>"
      ]
     },
     "execution_count": 401,
     "metadata": {},
     "output_type": "execute_result"
    },
    {
     "data": {
      "image/png": "[encoded data removed]",
      "text/plain": [
       "<Figure size 432x288 with 1 Axes>"
      ]
     },
     "metadata": {
      "needs_background": "light"
     },
     "output_type": "display_data"
    }
   ],
   "source": [
    "plt.plot(hist['loss'])\n",
    "plt.plot(hist['val_loss'])\n",
    "plt.legend((\"train\" , \"valid\") , loc =0)"
   ]
  },
  {
   "cell_type": "code",
   "execution_count": 402,
   "metadata": {},
   "outputs": [
    {
     "data": {
      "text/plain": [
       "<matplotlib.legend.Legend at 0x1b5aa73cac0>"
      ]
     },
     "execution_count": 402,
     "metadata": {},
     "output_type": "execute_result"
    },
    {
     "data": {
      "image/png": "[encoded data removed]",
      "text/plain": [
       "<Figure size 432x288 with 1 Axes>"
      ]
     },
     "metadata": {
      "needs_background": "light"
     },
     "output_type": "display_data"
    }
   ],
   "source": [
    "plt.plot(hist['accuracy'])\n",
    "plt.plot(hist['val_accuracy'])\n",
    "plt.legend((\"train\" , \"valid\") , loc =0)"
   ]
  },
  {
   "cell_type": "code",
   "execution_count": 403,
   "metadata": {},
   "outputs": [
    {
     "name": "stdout",
     "output_type": "stream",
     "text": [
      "91/91 [==============================] - 0s 966us/step - loss: 0.5490 - accuracy: 0.7790\n"
     ]
    },
    {
     "data": {
      "text/plain": [
       "[0.5489681959152222, 0.7790417075157166]"
      ]
     },
     "execution_count": 403,
     "metadata": {},
     "output_type": "execute_result"
    }
   ],
   "source": [
    "# Check accuracy score on test data\n",
    "\n",
    "model.evaluate(X_test_tfidf,y_test)"
   ]
  },
  {
   "cell_type": "code",
   "execution_count": 404,
   "metadata": {},
   "outputs": [],
   "source": [
    "#predicting target variable\n",
    "\n",
    "y_predict = np.argmax(model.predict(X_test_tfidf), axis=-1)\n",
    "y_test_label_code = np.argmax(y_test, axis=-1)"
   ]
  },
  {
   "cell_type": "code",
   "execution_count": 405,
   "metadata": {},
   "outputs": [
    {
     "data": {
      "image/png": "[encoded data removed]",
      "text/plain": [
       "<Figure size 720x576 with 2 Axes>"
      ]
     },
     "metadata": {
      "needs_background": "light"
     },
     "output_type": "display_data"
    }
   ],
   "source": [
    "# confusion matrix\n",
    "labels = ['Negative','Neutral','Positive']\n",
    "    \n",
    "fig, ax = plt.subplots(nrows=1,ncols=1,figsize = (10,8));\n",
    "cm= confusion_matrix(y_test_label_code,y_predict)\n",
    "sns.heatmap(cm ,annot=True,ax = ax,fmt='g',annot_kws={\"size\": 15});\n",
    "ax.set_xlabel('Predicted labels',fontsize=15);\n",
    "ax.set_ylabel('True labels',fontsize=15);\n",
    "ax.set_title('Confusion Matrix',fontsize=15);\n",
    "ax.xaxis.set_ticklabels(labels,fontsize=12,rotation = 45, color='blue');\n",
    "ax.yaxis.set_ticklabels(labels,fontsize=12,rotation = 45, color='blue');"
   ]
  },
  {
   "cell_type": "markdown",
   "metadata": {},
   "source": [
    "#### <font color='sky blue'>Count Vectorizor</font>"
   ]
  },
  {
   "cell_type": "code",
   "execution_count": 406,
   "metadata": {},
   "outputs": [],
   "source": [
    "# Initializing and build sequential model for Count vectorizor\n",
    "\n",
    "model = Sequential()\n",
    "\n",
    "model.add(Dense(16, input_shape = (1500,), activation = 'relu', kernel_initializer='normal', bias_initializer='zeros'))\n",
    "model.add(Dropout(0.25))\n",
    "model.add(Dense(3, activation=\"softmax\"))"
   ]
  },
  {
   "cell_type": "code",
   "execution_count": 407,
   "metadata": {},
   "outputs": [],
   "source": [
    "# initiate Adam optimizer\n",
    "opt = Adam(learning_rate=0.001, beta_1=0.9, beta_2=0.999, epsilon=1e-08)\n",
    "\n",
    "lss = 'categorical_crossentropy'"
   ]
  },
  {
   "cell_type": "code",
   "execution_count": 408,
   "metadata": {},
   "outputs": [],
   "source": [
    "# Model compile\n",
    "\n",
    "model.compile(optimizer = opt, loss = lss, metrics=['accuracy'])"
   ]
  },
  {
   "cell_type": "code",
   "execution_count": 409,
   "metadata": {},
   "outputs": [
    {
     "name": "stdout",
     "output_type": "stream",
     "text": [
      "Model: \"sequential_22\"\n",
      "_________________________________________________________________\n",
      "Layer (type)                 Output Shape              Param #   \n",
      "=================================================================\n",
      "dense_50 (Dense)             (None, 16)                24016     \n",
      "_________________________________________________________________\n",
      "dropout_28 (Dropout)         (None, 16)                0         \n",
      "_________________________________________________________________\n",
      "dense_51 (Dense)             (None, 3)                 51        \n",
      "=================================================================\n",
      "Total params: 24,067\n",
      "Trainable params: 24,067\n",
      "Non-trainable params: 0\n",
      "_________________________________________________________________\n"
     ]
    }
   ],
   "source": [
    "# Model summary\n",
    "\n",
    "model.summary()"
   ]
  },
  {
   "cell_type": "markdown",
   "metadata": {},
   "source": [
    "#### Training [Forward pass and Backpropagation]"
   ]
  },
  {
   "cell_type": "code",
   "execution_count": 410,
   "metadata": {},
   "outputs": [
    {
     "name": "stdout",
     "output_type": "stream",
     "text": [
      "Epoch 1/25\n",
      "19/19 [==============================] - 1s 21ms/step - loss: 1.0576 - accuracy: 0.4618 - val_loss: 0.9457 - val_accuracy: 0.6540\n",
      "Epoch 2/25\n",
      "19/19 [==============================] - 0s 11ms/step - loss: 0.9199 - accuracy: 0.6410 - val_loss: 0.8390 - val_accuracy: 0.6450\n",
      "Epoch 3/25\n",
      "19/19 [==============================] - 0s 10ms/step - loss: 0.8239 - accuracy: 0.6542 - val_loss: 0.7732 - val_accuracy: 0.6575\n",
      "Epoch 4/25\n",
      "19/19 [==============================] - 0s 10ms/step - loss: 0.7594 - accuracy: 0.6664 - val_loss: 0.7322 - val_accuracy: 0.6721\n",
      "Epoch 5/25\n",
      "19/19 [==============================] - 0s 10ms/step - loss: 0.7237 - accuracy: 0.6837 - val_loss: 0.6988 - val_accuracy: 0.6872\n",
      "Epoch 6/25\n",
      "19/19 [==============================] - 0s 10ms/step - loss: 0.6820 - accuracy: 0.7104 - val_loss: 0.6688 - val_accuracy: 0.7092\n",
      "Epoch 7/25\n",
      "19/19 [==============================] - 0s 10ms/step - loss: 0.6440 - accuracy: 0.7421 - val_loss: 0.6431 - val_accuracy: 0.7260\n",
      "Epoch 8/25\n",
      "19/19 [==============================] - 0s 10ms/step - loss: 0.6141 - accuracy: 0.7618 - val_loss: 0.6214 - val_accuracy: 0.7471\n",
      "Epoch 9/25\n",
      "19/19 [==============================] - 0s 10ms/step - loss: 0.5886 - accuracy: 0.7760 - val_loss: 0.6032 - val_accuracy: 0.7574\n",
      "Epoch 10/25\n",
      "19/19 [==============================] - 0s 10ms/step - loss: 0.5584 - accuracy: 0.7952 - val_loss: 0.5896 - val_accuracy: 0.7622\n",
      "Epoch 11/25\n",
      "19/19 [==============================] - 0s 10ms/step - loss: 0.5298 - accuracy: 0.8037 - val_loss: 0.5786 - val_accuracy: 0.7751\n",
      "Epoch 12/25\n",
      "19/19 [==============================] - 0s 10ms/step - loss: 0.5202 - accuracy: 0.8059 - val_loss: 0.5709 - val_accuracy: 0.7794\n",
      "Epoch 13/25\n",
      "19/19 [==============================] - 0s 10ms/step - loss: 0.5011 - accuracy: 0.8123 - val_loss: 0.5646 - val_accuracy: 0.7816\n",
      "Epoch 14/25\n",
      "19/19 [==============================] - 0s 10ms/step - loss: 0.4910 - accuracy: 0.8168 - val_loss: 0.5599 - val_accuracy: 0.7824\n",
      "Epoch 15/25\n",
      "19/19 [==============================] - 0s 10ms/step - loss: 0.4698 - accuracy: 0.8305 - val_loss: 0.5568 - val_accuracy: 0.7829\n",
      "Epoch 16/25\n",
      "19/19 [==============================] - 0s 10ms/step - loss: 0.4633 - accuracy: 0.8322 - val_loss: 0.5541 - val_accuracy: 0.7829\n",
      "Epoch 17/25\n",
      "19/19 [==============================] - 0s 10ms/step - loss: 0.4536 - accuracy: 0.8331 - val_loss: 0.5533 - val_accuracy: 0.7829\n",
      "Epoch 18/25\n",
      "19/19 [==============================] - 0s 10ms/step - loss: 0.4507 - accuracy: 0.8367 - val_loss: 0.5532 - val_accuracy: 0.7837\n",
      "Epoch 19/25\n",
      "19/19 [==============================] - 0s 10ms/step - loss: 0.4263 - accuracy: 0.8382 - val_loss: 0.5538 - val_accuracy: 0.7841\n",
      "Epoch 20/25\n",
      "19/19 [==============================] - 0s 10ms/step - loss: 0.4235 - accuracy: 0.8408 - val_loss: 0.5535 - val_accuracy: 0.7841\n",
      "Epoch 21/25\n",
      "19/19 [==============================] - 0s 10ms/step - loss: 0.4174 - accuracy: 0.8485 - val_loss: 0.5542 - val_accuracy: 0.7829\n",
      "Epoch 22/25\n",
      "19/19 [==============================] - 0s 10ms/step - loss: 0.4142 - accuracy: 0.8493 - val_loss: 0.5557 - val_accuracy: 0.7846\n",
      "Epoch 23/25\n",
      "19/19 [==============================] - 0s 10ms/step - loss: 0.4005 - accuracy: 0.8546 - val_loss: 0.5573 - val_accuracy: 0.7833\n",
      "Epoch 24/25\n",
      "19/19 [==============================] - 0s 10ms/step - loss: 0.3974 - accuracy: 0.8530 - val_loss: 0.5587 - val_accuracy: 0.7833\n",
      "Epoch 25/25\n",
      "19/19 [==============================] - 0s 9ms/step - loss: 0.3990 - accuracy: 0.8543 - val_loss: 0.5614 - val_accuracy: 0.7807\n"
     ]
    }
   ],
   "source": [
    "# running with count vectorizor\n",
    "\n",
    "history = model.fit(X_train_vec, y_train, batch_size=500, epochs = 25, verbose = 1, validation_split=.2)\n"
   ]
  },
  {
   "cell_type": "code",
   "execution_count": 411,
   "metadata": {},
   "outputs": [],
   "source": [
    "hist  = pd.DataFrame(history.history)\n",
    "hist['epoch'] = history.epoch"
   ]
  },
  {
   "cell_type": "code",
   "execution_count": 412,
   "metadata": {},
   "outputs": [
    {
     "data": {
      "text/plain": [
       "<matplotlib.legend.Legend at 0x1b59ac39940>"
      ]
     },
     "execution_count": 412,
     "metadata": {},
     "output_type": "execute_result"
    },
    {
     "data": {
      "image/png": "[encoded data removed]",
      "text/plain": [
       "<Figure size 432x288 with 1 Axes>"
      ]
     },
     "metadata": {
      "needs_background": "light"
     },
     "output_type": "display_data"
    }
   ],
   "source": [
    "plt.plot(hist['loss'])\n",
    "plt.plot(hist['val_loss'])\n",
    "plt.legend((\"train\" , \"valid\") , loc =0)"
   ]
  },
  {
   "cell_type": "code",
   "execution_count": 413,
   "metadata": {},
   "outputs": [
    {
     "data": {
      "text/plain": [
       "<matplotlib.legend.Legend at 0x1b5aa73caf0>"
      ]
     },
     "execution_count": 413,
     "metadata": {},
     "output_type": "execute_result"
    },
    {
     "data": {
      "image/png": "[encoded data removed]",
      "text/plain": [
       "<Figure size 432x288 with 1 Axes>"
      ]
     },
     "metadata": {
      "needs_background": "light"
     },
     "output_type": "display_data"
    }
   ],
   "source": [
    "plt.plot(hist['accuracy'])\n",
    "plt.plot(hist['val_accuracy'])\n",
    "plt.legend((\"train\" , \"valid\") , loc =0)"
   ]
  },
  {
   "cell_type": "code",
   "execution_count": 414,
   "metadata": {},
   "outputs": [
    {
     "name": "stdout",
     "output_type": "stream",
     "text": [
      "91/91 [==============================] - 0s 866us/step - loss: 0.5454 - accuracy: 0.7804\n"
     ]
    },
    {
     "data": {
      "text/plain": [
       "[0.5454268455505371, 0.7804205417633057]"
      ]
     },
     "execution_count": 414,
     "metadata": {},
     "output_type": "execute_result"
    }
   ],
   "source": [
    "# Check accuracy score on test data\n",
    "\n",
    "model.evaluate(X_test_vec,y_test)"
   ]
  },
  {
   "cell_type": "code",
   "execution_count": 415,
   "metadata": {},
   "outputs": [],
   "source": [
    "#predicting target variable\n",
    "\n",
    "y_predict = np.argmax(model.predict(X_test_vec), axis=-1)\n",
    "y_test_label_code = np.argmax(y_test, axis=-1)"
   ]
  },
  {
   "cell_type": "code",
   "execution_count": 416,
   "metadata": {},
   "outputs": [
    {
     "data": {
      "text/plain": [
       "array([0, 0, 0, 0, 0, 0, 1, 1, 0, 0, 0, 0, 0, 2, 0, 0, 1, 0, 0, 0, 0, 1,\n",
       "       2, 1, 0, 1, 0, 0, 0, 0, 0, 0, 0, 0, 0, 1, 2, 0, 2, 1, 1, 1, 0, 1,\n",
       "       0, 0, 0, 0, 0, 1], dtype=int64)"
      ]
     },
     "execution_count": 416,
     "metadata": {},
     "output_type": "execute_result"
    }
   ],
   "source": [
    "y_test_label_code[0:50]"
   ]
  },
  {
   "cell_type": "code",
   "execution_count": 417,
   "metadata": {},
   "outputs": [
    {
     "data": {
      "image/png": "[encoded data removed]",
      "text/plain": [
       "<Figure size 720x576 with 2 Axes>"
      ]
     },
     "metadata": {
      "needs_background": "light"
     },
     "output_type": "display_data"
    }
   ],
   "source": [
    "# confusion matrix\n",
    "labels = ['Negative','Neutral','Positive']\n",
    "    \n",
    "fig, ax = plt.subplots(nrows=1,ncols=1,figsize = (10,8));\n",
    "cm= confusion_matrix(y_test_label_code,y_predict)\n",
    "sns.heatmap(cm ,annot=True,ax = ax,fmt='g',annot_kws={\"size\": 15});\n",
    "ax.set_xlabel('Predicted labels',fontsize=15);\n",
    "ax.set_ylabel('True labels',fontsize=15);\n",
    "ax.set_title('Confusion Matrix',fontsize=15);\n",
    "ax.xaxis.set_ticklabels(labels,fontsize=12,rotation = 45, color='blue');\n",
    "ax.yaxis.set_ticklabels(labels,fontsize=12,rotation = 45, color='blue');"
   ]
  },
  {
   "attachments": {},
   "cell_type": "markdown",
   "metadata": {},
   "source": [
    "<font color='green'>**Observation:** </font>\n",
    "- N-gram improves accuracy about 2%"
   ]
  },
  {
   "cell_type": "markdown",
   "metadata": {},
   "source": [
    "### 6. Summarize understanding:"
   ]
  },
  {
   "attachments": {},
   "cell_type": "markdown",
   "metadata": {},
   "source": [
    "#### <font color='sky blue'>Pre processing</font>\n",
    "- Preprocessing helps us to get rid of unwanted words, which are not related to our problem\n",
    "- Here I chose different preprocessing methods as below"
   ]
  },
  {
   "cell_type": "markdown",
   "metadata": {},
   "source": [
    "- <b>Capture emoji:</b> As Emoji contains some sentiment information\n",
    "- <b>Remove HTML:</b> HTML tag does not carry any information related to sentiment\n",
    "- <b>Remove URL:</b> Website urls does not carry any sentiment related information\n",
    "- <b>Replace contraction:</b> This helps to reduce number of unique words in our corpus\n",
    "- <b>Remover twitter handle:</b> In tweets Tritter handle is very common, but that does not carry any sentiment information. So better to remove those\n",
    "- <b>Remove numbers:</b> as numbers does not carry any sentiment data\n",
    "- <b>Remove new line and Special charecter:</b> This will help reduce the corpus size and get rid of unwanted words or charecters\n",
    "- <b>Convert to lower case:</b> Helps in minimizing the unique word set\n",
    "- <b>Tokenize:</b> Helps in breaking sentences into words\n",
    "- <b>Lemmatize:</b> Helps in going to root of the words, hence reducing unique word list\n",
    "- <b>Remove Stop words:</b> Stop words doe not carry any information related to NLP hence removed to reduce words. But Negative sentiment related words are removed from stop word list and some common words are added to the custom stop word list.\n",
    "- <b>Remove some POS tags:</b> Numbers in word (Ten, twenty etc), Proper noun, pronoun etc does not contain any sentiment related data, hence removed to reduce word counts"
   ]
  },
  {
   "cell_type": "markdown",
   "metadata": {},
   "source": [
    "#### <font color='sky blue'>Vectorization</font>\n",
    "- Vectorization helps us in converting corpus into word count matrix of word counts\n",
    "- Count vectorizor cretes just the bag of words\n",
    "- Tfidf vectorizor deprioratize the common words accorss multiple document in corpus\n",
    "- In our model we see almost similar experience with count vectorizor and Tfidf vectorizor\n",
    "- Whereas using bi-gram improves accuracy to some extent"
   ]
  },
  {
   "cell_type": "markdown",
   "metadata": {},
   "source": [
    "#### <font color='sky blue'>Model performance</font>\n",
    "- Regular machne lerning model like Random forest gives decent score of around 70% in test data\n",
    "- Switching to Deep lerning simple model improve accuracy to about 75%\n",
    "- But making the Deep lerning model complex makes it overfitted and reduces accuracy (though it is not in result here, but I tested changing number of nurons in layer and number of layers)\n",
    "- Using deep lerning model with bi-gram helps to improve accuracy to close to 78%"
   ]
  },
  {
   "cell_type": "markdown",
   "metadata": {},
   "source": [
    "#### <font color='sky blue'>Final results</font>"
   ]
  },
  {
   "cell_type": "code",
   "execution_count": 418,
   "metadata": {},
   "outputs": [
    {
     "data": {
      "text/html": [
       "<div>\n",
       "<style scoped>\n",
       "    .dataframe tbody tr th:only-of-type {\n",
       "        vertical-align: middle;\n",
       "    }\n",
       "\n",
       "    .dataframe tbody tr th {\n",
       "        vertical-align: top;\n",
       "    }\n",
       "\n",
       "    .dataframe thead th {\n",
       "        text-align: right;\n",
       "    }\n",
       "</style>\n",
       "<table border=\"1\" class=\"dataframe\">\n",
       "  <thead>\n",
       "    <tr style=\"text-align: right;\">\n",
       "      <th></th>\n",
       "      <th>y_test</th>\n",
       "      <th>y_pred</th>\n",
       "    </tr>\n",
       "  </thead>\n",
       "  <tbody>\n",
       "    <tr>\n",
       "      <th>0</th>\n",
       "      <td>0</td>\n",
       "      <td>0</td>\n",
       "    </tr>\n",
       "    <tr>\n",
       "      <th>1</th>\n",
       "      <td>0</td>\n",
       "      <td>0</td>\n",
       "    </tr>\n",
       "    <tr>\n",
       "      <th>2</th>\n",
       "      <td>0</td>\n",
       "      <td>0</td>\n",
       "    </tr>\n",
       "    <tr>\n",
       "      <th>3</th>\n",
       "      <td>0</td>\n",
       "      <td>0</td>\n",
       "    </tr>\n",
       "    <tr>\n",
       "      <th>4</th>\n",
       "      <td>0</td>\n",
       "      <td>0</td>\n",
       "    </tr>\n",
       "    <tr>\n",
       "      <th>...</th>\n",
       "      <td>...</td>\n",
       "      <td>...</td>\n",
       "    </tr>\n",
       "    <tr>\n",
       "      <th>2896</th>\n",
       "      <td>1</td>\n",
       "      <td>0</td>\n",
       "    </tr>\n",
       "    <tr>\n",
       "      <th>2897</th>\n",
       "      <td>0</td>\n",
       "      <td>0</td>\n",
       "    </tr>\n",
       "    <tr>\n",
       "      <th>2898</th>\n",
       "      <td>0</td>\n",
       "      <td>0</td>\n",
       "    </tr>\n",
       "    <tr>\n",
       "      <th>2899</th>\n",
       "      <td>1</td>\n",
       "      <td>1</td>\n",
       "    </tr>\n",
       "    <tr>\n",
       "      <th>2900</th>\n",
       "      <td>0</td>\n",
       "      <td>0</td>\n",
       "    </tr>\n",
       "  </tbody>\n",
       "</table>\n",
       "<p>2901 rows × 2 columns</p>\n",
       "</div>"
      ],
      "text/plain": [
       "      y_test  y_pred\n",
       "0          0       0\n",
       "1          0       0\n",
       "2          0       0\n",
       "3          0       0\n",
       "4          0       0\n",
       "...      ...     ...\n",
       "2896       1       0\n",
       "2897       0       0\n",
       "2898       0       0\n",
       "2899       1       1\n",
       "2900       0       0\n",
       "\n",
       "[2901 rows x 2 columns]"
      ]
     },
     "execution_count": 418,
     "metadata": {},
     "output_type": "execute_result"
    }
   ],
   "source": [
    "df_result = pd.DataFrame()\n",
    "df_result['y_test'] = y_test_label_code\n",
    "df_result['y_pred'] = y_predict\n",
    "\n",
    "df_result"
   ]
  },
  {
   "cell_type": "code",
   "execution_count": 428,
   "metadata": {},
   "outputs": [
    {
     "data": {
      "text/plain": [
       "0.7804205446397794"
      ]
     },
     "execution_count": 428,
     "metadata": {},
     "output_type": "execute_result"
    }
   ],
   "source": [
    "# Overall Accuracy\n",
    "\n",
    "accuracy_score(y_test_label_code, y_predict)"
   ]
  },
  {
   "cell_type": "code",
   "execution_count": 436,
   "metadata": {},
   "outputs": [
    {
     "name": "stdout",
     "output_type": "stream",
     "text": [
      "              precision    recall  f1-score   support\n",
      "\n",
      "    Negative     0.8461    0.8828    0.8641      1818\n",
      "     Neutral     0.5969    0.5707    0.5835       615\n",
      "    Positive     0.7404    0.6581    0.6968       468\n",
      "\n",
      "    accuracy                         0.7804      2901\n",
      "   macro avg     0.7278    0.7039    0.7148      2901\n",
      "weighted avg     0.7762    0.7804    0.7776      2901\n",
      "\n"
     ]
    }
   ],
   "source": [
    "# Class Level metrices\n",
    "\n",
    "print(classification_report(y_test_label_code, y_predict, target_names=labels, digits=4))"
   ]
  },
  {
   "cell_type": "code",
   "execution_count": 439,
   "metadata": {},
   "outputs": [
    {
     "data": {
      "text/html": [
       "<div>\n",
       "<style scoped>\n",
       "    .dataframe tbody tr th:only-of-type {\n",
       "        vertical-align: middle;\n",
       "    }\n",
       "\n",
       "    .dataframe tbody tr th {\n",
       "        vertical-align: top;\n",
       "    }\n",
       "\n",
       "    .dataframe thead th {\n",
       "        text-align: right;\n",
       "    }\n",
       "</style>\n",
       "<table border=\"1\" class=\"dataframe\">\n",
       "  <thead>\n",
       "    <tr style=\"text-align: right;\">\n",
       "      <th></th>\n",
       "      <th>labels</th>\n",
       "      <th>score</th>\n",
       "    </tr>\n",
       "  </thead>\n",
       "  <tbody>\n",
       "    <tr>\n",
       "      <th>0</th>\n",
       "      <td>Negative</td>\n",
       "      <td>0.882838</td>\n",
       "    </tr>\n",
       "    <tr>\n",
       "      <th>1</th>\n",
       "      <td>Neutral</td>\n",
       "      <td>0.570732</td>\n",
       "    </tr>\n",
       "    <tr>\n",
       "      <th>2</th>\n",
       "      <td>Positive</td>\n",
       "      <td>0.658120</td>\n",
       "    </tr>\n",
       "  </tbody>\n",
       "</table>\n",
       "</div>"
      ],
      "text/plain": [
       "     labels     score\n",
       "0  Negative  0.882838\n",
       "1   Neutral  0.570732\n",
       "2  Positive  0.658120"
      ]
     },
     "execution_count": 439,
     "metadata": {},
     "output_type": "execute_result"
    }
   ],
   "source": [
    "# Class level accuracy\n",
    "\n",
    "df_accuracy = pd.DataFrame()\n",
    "df_accuracy['labels'] = labels\n",
    "df_accuracy['score'] = cm.diagonal()/cm.sum(axis=1)\n",
    "\n",
    "df_accuracy"
   ]
  }
 ],
 "metadata": {
  "kernelspec": {
   "display_name": "Python 3",
   "language": "python",
   "name": "python3"
  },
  "language_info": {
   "codemirror_mode": {
    "name": "ipython",
    "version": 3
   },
   "file_extension": ".py",
   "mimetype": "text/x-python",
   "name": "python",
   "nbconvert_exporter": "python",
   "pygments_lexer": "ipython3",
   "version": "3.8.5"
  }
 },
 "nbformat": 4,
 "nbformat_minor": 2
}
